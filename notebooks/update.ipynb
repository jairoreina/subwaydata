{
 "cells": [
  {
   "cell_type": "code",
   "execution_count": null,
   "metadata": {},
   "outputs": [],
   "source": [
    "import requests\n",
    "from datetime import datetime, timedelta\n",
    "import polars as pl\n",
    "import re"
   ]
  },
  {
   "cell_type": "code",
   "execution_count": null,
   "metadata": {},
   "outputs": [],
   "source": [
    "def clean_column_name(name):\n",
    "    return re.sub(r\"[ \\-&]\", \"_\", name).replace(\"___\", \"_\").replace(\"__\",\"_\").lower()"
   ]
  },
  {
   "cell_type": "code",
   "execution_count": null,
   "metadata": {},
   "outputs": [],
   "source": [
    "def get_data(ses):\n",
    "    url = \"https://data.ny.gov/resource/wujg-7c2s.csv\"\n",
    "\n",
    "    params = {\n",
    "        \"$limit\":1,\n",
    "        \"$order\":\"transit_timestamp DESC\"\n",
    "    }\n",
    "    response = ses.get(url, params=params)\n",
    "\n",
    "    last_update_string = pl.read_csv(response.content)[\"transit_timestamp\"][0]\n",
    "    last_update_datetime = datetime.fromisoformat(last_update_string)\n",
    "\n",
    "    days_of_history = 30\n",
    "    two_weeks_prior = last_update_datetime - timedelta(days=days_of_history)\n",
    "    rounded_two_weeks = datetime(year=two_weeks_prior.year, month=two_weeks_prior.month, day=two_weeks_prior.day)\n",
    "\n",
    "    print(f\"Getting data from {rounded_two_weeks.isoformat()} and {last_update_datetime.isoformat()}...\")\n",
    "    params = {\n",
    "        \"$where\": f\"transit_timestamp between'{rounded_two_weeks.isoformat()}' and '{last_update_datetime.isoformat()}'\",\n",
    "        \"$limit\": days_of_history * 100_000\n",
    "    }\n",
    "    response = ses.get(url, params=params)\n",
    "    \n",
    "    columns_to_keep = [\"transit_timestamp\", \"station_complex_id\", \"fare_class_category\", \"ridership\"]\n",
    "    df = pl.read_csv(response.content, infer_schema_length=0, columns=columns_to_keep)\n",
    "    return df"
   ]
  },
  {
   "cell_type": "code",
   "execution_count": null,
   "metadata": {},
   "outputs": [],
   "source": [
    "def format_df(df):\n",
    "    ridership_wide = df.with_columns(\n",
    "        [pl.col(\"transit_timestamp\").map_elements(lambda x: datetime.fromisoformat(x), return_dtype=pl.Datetime),\n",
    "        pl.col(\"ridership\").cast(pl.Float64).floor().cast(pl.Int16)]\n",
    "    ).pivot(\n",
    "        index=[\"transit_timestamp\", \"station_complex_id\"],\n",
    "        columns=\"fare_class_category\",\n",
    "        values=\"ridership\",\n",
    "        aggregate_function=\"sum\",\n",
    "        sort_columns=True\n",
    "    ).sort(\n",
    "        [\"transit_timestamp\", \"station_complex_id\"], descending=[False, False]\n",
    "    ).fill_null(0)\n",
    "\n",
    "    ridership_columns = [col for col in ridership_wide.columns if \"Metrocard\" in col or \"OMNY\" in col]\n",
    "    ridership = ridership_wide.with_columns(\n",
    "        total_ridership=pl.sum_horizontal(col for col in ridership_columns)\n",
    "    )\n",
    "\n",
    "    rename_mapping = {col: clean_column_name(col) for col in ridership.columns}\n",
    "    ridership = ridership.rename(rename_mapping)\n",
    "    \n",
    "    #Since we got rid of the shuttle and TRAM lines, we filter them out here too.\n",
    "    ridership = ridership.filter(~pl.col(\"station_complex_id\").str.contains(\"TRAM\")).filter(~pl.col(\"station_complex_id\").str.contains(\"141\"))\n",
    "    return ridership"
   ]
  },
  {
   "cell_type": "code",
   "execution_count": null,
   "metadata": {},
   "outputs": [],
   "source": [
    "with requests.session() as ses:\n",
    "    df = get_data(ses)\n",
    "ridership = format_df(df)\n",
    "ridership"
   ]
  },
  {
   "cell_type": "code",
   "execution_count": null,
   "metadata": {},
   "outputs": [],
   "source": [
    "for row_dict in ridership.to_pandas().to_dict(orient=\"records\"):\n",
    "    print(row_dict)"
   ]
  },
  {
   "cell_type": "code",
   "execution_count": null,
   "metadata": {},
   "outputs": [],
   "source": []
  }
 ],
 "metadata": {
  "kernelspec": {
   "display_name": "mta",
   "language": "python",
   "name": "python3"
  },
  "language_info": {
   "codemirror_mode": {
    "name": "ipython",
    "version": 3
   },
   "file_extension": ".py",
   "mimetype": "text/x-python",
   "name": "python",
   "nbconvert_exporter": "python",
   "pygments_lexer": "ipython3",
   "version": "3.11.6"
  }
 },
 "nbformat": 4,
 "nbformat_minor": 2
}
