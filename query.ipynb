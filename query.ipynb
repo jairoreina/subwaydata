{
 "cells": [
  {
   "cell_type": "code",
   "execution_count": 1,
   "metadata": {},
   "outputs": [],
   "source": [
    "from openai import OpenAI\n",
    "import os"
   ]
  },
  {
   "cell_type": "code",
   "execution_count": 2,
   "metadata": {},
   "outputs": [],
   "source": [
    "client = OpenAI()\n",
    "client.api_key = os.environ[\"OPENAI_API_KEY\"]"
   ]
  },
  {
   "cell_type": "code",
   "execution_count": 3,
   "metadata": {},
   "outputs": [],
   "source": [
    "query = \"What are the top 3 stations with the most ridership in Queens during 2024?\""
   ]
  },
  {
   "cell_type": "code",
   "execution_count": 4,
   "metadata": {},
   "outputs": [],
   "source": [
    "response = client.chat.completions.create(\n",
    "  model=\"gpt-4-turbo\",\n",
    "  messages=[\n",
    "    {\n",
    "      \"role\": \"system\",\n",
    "      \"content\": \"I have a PostgreSQL database for a subway system with the following schema:\\n\\n1. stations: Contains details about subway stations.\\n    - station_complex_id (TEXT): A unique identifier for each station, primary key.\\n    - station_complex (TEXT): The name of the station complex.\\n    - borough (TEXT): The city borough where the station is located.\\n    - latitude (NUMERIC(17,15)): Latitude coordinate of the station.\\n    - longitude (NUMERIC(17,15)): Longitude coordinate of the station.\\n\\n2. routes: Contains unique subway routes.\\n    - route_name (TEXT): The name of the subway route/line, primary key.\\n\\n3. station_routes: Represents the many-to-many relationship between stations and routes, linking which routes pass through each station.\\n    - station_complex_id (TEXT): References stations.station_complex_id.\\n    - route_name (TEXT): References routes.route_name.\\n    - This table has a composite primary key (station_complex_id, route_name).\\n\\n4. ridership: Contains data on the number of riders at different times.\\n    - entry_id (INT PRIMARY KEY GENERATED ALWAYS AS IDENTITY): Unique identifier for each entry, primary key.\\n    - transit_timestamp (TIMESTAMP WITHOUT TIME ZONE): The date and time of the ridership count.\\n    - station_complex_id (TEXT): Links to the stations table.\\n    - metrocard_fair_fare, metrocard_full_fare, metrocard_other, metrocard_seniors_disability, metrocard_students, metrocard_unlimited_30_day, metrocard_unlimited_7_day, omny_full_fare, omny_other, omny_seniors_disability, total_ridership (INT): Various columns representing different fare types and counts.\\n\\nGiven this schema, convert the following natural language queries to valid PostgreSQL queries:\\n\\nExample 1:\\nNatural Language: \\\"What was the station in brooklyn with the least ridership on march 3rd 2024?\\\"\\nExpected SQL Query: SELECT s.station_complex, SUM(r.total_ridership) AS total_ridership\\nFROM stations s\\nJOIN ridership r ON s.station_complex_id = r.station_complex_id\\nWHERE s.borough = 'Brooklyn' \\n      AND r.transit_timestamp >= '2024-03-03 00:00:00' \\n      AND r.transit_timestamp < '2024-03-04 00:00:00'\\nGROUP BY s.station_complex\\nORDER BY total_ridership ASC\\nLIMIT 1;\\n\\nExample 2:\\nNatural Language: \\\"What are the train lines that stop at 14 St-Union Sq?\\\"\\nExpected SQL Query: SELECT sr.route_name\\nFROM station_routes sr\\nJOIN stations s ON sr.station_complex_id = s.station_complex_id\\nWHERE s.station_complex ILIKE '%14 St-Union Sq%';\\n\\nExample 3:\\nNatural Language: \\\"Find the day in 2024 with the most ridership across all stations\\\"\\nExpected SQL Query: SELECT DATE(transit_timestamp) AS day, SUM(total_ridership) AS total_ridership\\nFROM ridership\\nWHERE DATE(transit_timestamp) BETWEEN '2024-01-01' AND '2024-12-31'\\nGROUP BY DATE(transit_timestamp)\\nORDER BY total_ridership DESC\\nLIMIT 1;\\n\\n\\nYour task is to translate natural language queries given by the user into valid PostgresQL queries based on the provided schema and examples given. Note that users may call subway routes \\\"lines\\\" or \\\"subway lines\\\" interchangeably. Return ONLY the SQL query.\\n\"\n",
    "    },\n",
    "    {\n",
    "      \"role\": \"user\",\n",
    "      \"content\": query\n",
    "    }\n",
    "  ],\n",
    "  temperature=1,\n",
    "  max_tokens=256,\n",
    "  top_p=1,\n",
    "  frequency_penalty=0,\n",
    "  presence_penalty=0\n",
    ")"
   ]
  },
  {
   "cell_type": "code",
   "execution_count": 15,
   "metadata": {},
   "outputs": [
    {
     "data": {
      "text/plain": [
       "\"SELECT s.station_complex, SUM(r.total_ridership) AS total_ridership\\nFROM stations s\\nJOIN ridership r ON s.station_complex_id = r.station_complex_id\\nWHERE s.borough = 'Queens' \\n      AND DATE(r.transit_timestamp) BETWEEN '2024-01-01' AND '2024-12-31'\\nGROUP BY s.station_complex\\nORDER BY total_ridership DESC\\nLIMIT 3;\""
      ]
     },
     "execution_count": 15,
     "metadata": {},
     "output_type": "execute_result"
    }
   ],
   "source": [
    "response.choices[0].message.content.replace(\"```sql\", \"\").replace(\"```\", \"\").strip(\"\\n\")"
   ]
  },
  {
   "cell_type": "code",
   "execution_count": null,
   "metadata": {},
   "outputs": [],
   "source": []
  }
 ],
 "metadata": {
  "kernelspec": {
   "display_name": "venv",
   "language": "python",
   "name": "python3"
  },
  "language_info": {
   "codemirror_mode": {
    "name": "ipython",
    "version": 3
   },
   "file_extension": ".py",
   "mimetype": "text/x-python",
   "name": "python",
   "nbconvert_exporter": "python",
   "pygments_lexer": "ipython3",
   "version": "3.11.6"
  }
 },
 "nbformat": 4,
 "nbformat_minor": 2
}
