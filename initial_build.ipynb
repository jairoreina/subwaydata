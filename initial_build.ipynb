{
 "cells": [
  {
   "cell_type": "markdown",
   "metadata": {},
   "source": [
    "https://data.ny.gov/Transportation/MTA-Subway-Hourly-Ridership-Beginning-February-202/wujg-7c2s/about_data"
   ]
  },
  {
   "cell_type": "code",
   "execution_count": 17,
   "metadata": {},
   "outputs": [],
   "source": [
    "import polars as pl\n",
    "import re"
   ]
  },
  {
   "cell_type": "code",
   "execution_count": 18,
   "metadata": {},
   "outputs": [],
   "source": [
    "def add_dec_prec(row):\n",
    "    latitude = row[\"latitude\"]\n",
    "    longitude = row[\"longitude\"]\n",
    "    # Assuming latitude and longitude are strings; extract the precision part\n",
    "    lat_precision = len(latitude.split(\".\")[-1]) if \".\" in latitude else 0\n",
    "    long_precision = len(longitude.split(\".\")[-1]) if \".\" in longitude else 0\n",
    "    # Return the total precision as the sum of both\n",
    "    return lat_precision + long_precision"
   ]
  },
  {
   "cell_type": "code",
   "execution_count": 19,
   "metadata": {},
   "outputs": [],
   "source": [
    "def clean_column_name(name):\n",
    "    return re.sub(r\"[ \\-&]\", \"_\", name).replace(\"___\", \"_\").replace(\"__\",\"_\").lower()"
   ]
  },
  {
   "cell_type": "code",
   "execution_count": 20,
   "metadata": {},
   "outputs": [
    {
     "data": {
      "text/html": [
       "<div><style>\n",
       ".dataframe > thead > tr,\n",
       ".dataframe > tbody > tr {\n",
       "  text-align: right;\n",
       "  white-space: pre-wrap;\n",
       "}\n",
       "</style>\n",
       "<small>shape: (7_734_974, 13)</small><table border=\"1\" class=\"dataframe\"><thead><tr><th>transit_timestamp</th><th>station_complex_id</th><th>metrocard_fair_fare</th><th>metrocard_full_fare</th><th>metrocard_other</th><th>metrocard_seniors_disability</th><th>metrocard_students</th><th>metrocard_unlimited_30_day</th><th>metrocard_unlimited_7_day</th><th>omny_full_fare</th><th>omny_other</th><th>omny_seniors_disability</th><th>total_ridership</th></tr><tr><td>datetime[μs]</td><td>str</td><td>i64</td><td>i64</td><td>i64</td><td>i64</td><td>i64</td><td>i64</td><td>i64</td><td>i64</td><td>i64</td><td>i64</td><td>i64</td></tr></thead><tbody><tr><td>2022-02-01 00:00:00</td><td>&quot;1&quot;</td><td>0</td><td>10</td><td>0</td><td>0</td><td>0</td><td>3</td><td>4</td><td>0</td><td>0</td><td>0</td><td>17</td></tr><tr><td>2022-02-01 00:00:00</td><td>&quot;10&quot;</td><td>2</td><td>41</td><td>2</td><td>10</td><td>0</td><td>16</td><td>29</td><td>0</td><td>0</td><td>0</td><td>100</td></tr><tr><td>2022-02-01 00:00:00</td><td>&quot;100&quot;</td><td>0</td><td>6</td><td>0</td><td>0</td><td>0</td><td>1</td><td>3</td><td>0</td><td>0</td><td>0</td><td>10</td></tr><tr><td>2022-02-01 00:00:00</td><td>&quot;101&quot;</td><td>4</td><td>13</td><td>3</td><td>1</td><td>0</td><td>2</td><td>2</td><td>0</td><td>0</td><td>0</td><td>25</td></tr><tr><td>2022-02-01 00:00:00</td><td>&quot;103&quot;</td><td>0</td><td>8</td><td>0</td><td>0</td><td>0</td><td>6</td><td>3</td><td>0</td><td>0</td><td>0</td><td>17</td></tr><tr><td>&hellip;</td><td>&hellip;</td><td>&hellip;</td><td>&hellip;</td><td>&hellip;</td><td>&hellip;</td><td>&hellip;</td><td>&hellip;</td><td>&hellip;</td><td>&hellip;</td><td>&hellip;</td><td>&hellip;</td><td>&hellip;</td></tr><tr><td>2024-03-16 23:00:00</td><td>&quot;95&quot;</td><td>2</td><td>6</td><td>0</td><td>0</td><td>0</td><td>2</td><td>9</td><td>17</td><td>0</td><td>0</td><td>36</td></tr><tr><td>2024-03-16 23:00:00</td><td>&quot;96&quot;</td><td>5</td><td>4</td><td>2</td><td>1</td><td>0</td><td>3</td><td>7</td><td>23</td><td>0</td><td>0</td><td>45</td></tr><tr><td>2024-03-16 23:00:00</td><td>&quot;97&quot;</td><td>6</td><td>10</td><td>3</td><td>0</td><td>0</td><td>12</td><td>4</td><td>104</td><td>0</td><td>0</td><td>139</td></tr><tr><td>2024-03-16 23:00:00</td><td>&quot;98&quot;</td><td>1</td><td>7</td><td>5</td><td>1</td><td>0</td><td>5</td><td>8</td><td>24</td><td>0</td><td>0</td><td>51</td></tr><tr><td>2024-03-16 23:00:00</td><td>&quot;99&quot;</td><td>1</td><td>4</td><td>2</td><td>0</td><td>0</td><td>8</td><td>4</td><td>18</td><td>0</td><td>0</td><td>37</td></tr></tbody></table></div>"
      ],
      "text/plain": [
       "shape: (7_734_974, 13)\n",
       "┌───────────┬───────────┬───────────┬───────────┬───┬───────────┬───────────┬───────────┬──────────┐\n",
       "│ transit_t ┆ station_c ┆ metrocard ┆ metrocard ┆ … ┆ omny_full ┆ omny_othe ┆ omny_seni ┆ total_ri │\n",
       "│ imestamp  ┆ omplex_id ┆ _fair_far ┆ _full_far ┆   ┆ _fare     ┆ r         ┆ ors_disab ┆ dership  │\n",
       "│ ---       ┆ ---       ┆ e         ┆ e         ┆   ┆ ---       ┆ ---       ┆ ility     ┆ ---      │\n",
       "│ datetime[ ┆ str       ┆ ---       ┆ ---       ┆   ┆ i64       ┆ i64       ┆ ---       ┆ i64      │\n",
       "│ μs]       ┆           ┆ i64       ┆ i64       ┆   ┆           ┆           ┆ i64       ┆          │\n",
       "╞═══════════╪═══════════╪═══════════╪═══════════╪═══╪═══════════╪═══════════╪═══════════╪══════════╡\n",
       "│ 2022-02-0 ┆ 1         ┆ 0         ┆ 10        ┆ … ┆ 0         ┆ 0         ┆ 0         ┆ 17       │\n",
       "│ 1         ┆           ┆           ┆           ┆   ┆           ┆           ┆           ┆          │\n",
       "│ 00:00:00  ┆           ┆           ┆           ┆   ┆           ┆           ┆           ┆          │\n",
       "│ 2022-02-0 ┆ 10        ┆ 2         ┆ 41        ┆ … ┆ 0         ┆ 0         ┆ 0         ┆ 100      │\n",
       "│ 1         ┆           ┆           ┆           ┆   ┆           ┆           ┆           ┆          │\n",
       "│ 00:00:00  ┆           ┆           ┆           ┆   ┆           ┆           ┆           ┆          │\n",
       "│ 2022-02-0 ┆ 100       ┆ 0         ┆ 6         ┆ … ┆ 0         ┆ 0         ┆ 0         ┆ 10       │\n",
       "│ 1         ┆           ┆           ┆           ┆   ┆           ┆           ┆           ┆          │\n",
       "│ 00:00:00  ┆           ┆           ┆           ┆   ┆           ┆           ┆           ┆          │\n",
       "│ 2022-02-0 ┆ 101       ┆ 4         ┆ 13        ┆ … ┆ 0         ┆ 0         ┆ 0         ┆ 25       │\n",
       "│ 1         ┆           ┆           ┆           ┆   ┆           ┆           ┆           ┆          │\n",
       "│ 00:00:00  ┆           ┆           ┆           ┆   ┆           ┆           ┆           ┆          │\n",
       "│ 2022-02-0 ┆ 103       ┆ 0         ┆ 8         ┆ … ┆ 0         ┆ 0         ┆ 0         ┆ 17       │\n",
       "│ 1         ┆           ┆           ┆           ┆   ┆           ┆           ┆           ┆          │\n",
       "│ 00:00:00  ┆           ┆           ┆           ┆   ┆           ┆           ┆           ┆          │\n",
       "│ …         ┆ …         ┆ …         ┆ …         ┆ … ┆ …         ┆ …         ┆ …         ┆ …        │\n",
       "│ 2024-03-1 ┆ 95        ┆ 2         ┆ 6         ┆ … ┆ 17        ┆ 0         ┆ 0         ┆ 36       │\n",
       "│ 6         ┆           ┆           ┆           ┆   ┆           ┆           ┆           ┆          │\n",
       "│ 23:00:00  ┆           ┆           ┆           ┆   ┆           ┆           ┆           ┆          │\n",
       "│ 2024-03-1 ┆ 96        ┆ 5         ┆ 4         ┆ … ┆ 23        ┆ 0         ┆ 0         ┆ 45       │\n",
       "│ 6         ┆           ┆           ┆           ┆   ┆           ┆           ┆           ┆          │\n",
       "│ 23:00:00  ┆           ┆           ┆           ┆   ┆           ┆           ┆           ┆          │\n",
       "│ 2024-03-1 ┆ 97        ┆ 6         ┆ 10        ┆ … ┆ 104       ┆ 0         ┆ 0         ┆ 139      │\n",
       "│ 6         ┆           ┆           ┆           ┆   ┆           ┆           ┆           ┆          │\n",
       "│ 23:00:00  ┆           ┆           ┆           ┆   ┆           ┆           ┆           ┆          │\n",
       "│ 2024-03-1 ┆ 98        ┆ 1         ┆ 7         ┆ … ┆ 24        ┆ 0         ┆ 0         ┆ 51       │\n",
       "│ 6         ┆           ┆           ┆           ┆   ┆           ┆           ┆           ┆          │\n",
       "│ 23:00:00  ┆           ┆           ┆           ┆   ┆           ┆           ┆           ┆          │\n",
       "│ 2024-03-1 ┆ 99        ┆ 1         ┆ 4         ┆ … ┆ 18        ┆ 0         ┆ 0         ┆ 37       │\n",
       "│ 6         ┆           ┆           ┆           ┆   ┆           ┆           ┆           ┆          │\n",
       "│ 23:00:00  ┆           ┆           ┆           ┆   ┆           ┆           ┆           ┆          │\n",
       "└───────────┴───────────┴───────────┴───────────┴───┴───────────┴───────────┴───────────┴──────────┘"
      ]
     },
     "execution_count": 20,
     "metadata": {},
     "output_type": "execute_result"
    }
   ],
   "source": [
    "#Ridership table\n",
    "columns_to_keep = [\"transit_timestamp\", \"station_complex_id\", \"fare_class_category\", \"ridership\"]\n",
    "original_ridership = pl.read_parquet(\"data/hist.parquet\", columns=columns_to_keep, low_memory=True)\n",
    "\n",
    "ridership_wide = original_ridership.with_columns(\n",
    "    [pl.col(\"transit_timestamp\").str.strptime(pl.Datetime, format=\"%m/%d/%Y %I:%M:%S %p\"),\n",
    "     pl.col(\"ridership\").cast(pl.Int16)]\n",
    ").pivot(\n",
    "    index=[\"transit_timestamp\", \"station_complex_id\"],\n",
    "    columns=\"fare_class_category\",\n",
    "    values=\"ridership\",\n",
    "    aggregate_function=\"sum\",\n",
    "    sort_columns=True\n",
    ").sort(\n",
    "    [\"transit_timestamp\", \"station_complex_id\"], descending=[False, False]\n",
    ").fill_null(0)\n",
    "\n",
    "ridership_columns = [col for col in ridership_wide.columns if \"Metrocard\" in col or \"OMNY\" in col]\n",
    "ridership = ridership_wide.with_columns(\n",
    "    total_ridership=pl.sum_horizontal(col for col in ridership_columns)\n",
    ")\n",
    "\n",
    "rename_mapping = {col: clean_column_name(col) for col in ridership.columns}\n",
    "ridership = ridership.rename(rename_mapping)\n",
    "\n",
    "#Since we got rid of the shuttle and TRAM lines, we filter them out here too.\n",
    "ridership = ridership.filter(~pl.col(\"station_complex_id\").str.contains(\"TRAM\")).filter(~pl.col(\"station_complex_id\").str.contains(\"141\"))\n",
    "ridership"
   ]
  },
  {
   "cell_type": "code",
   "execution_count": 66,
   "metadata": {},
   "outputs": [],
   "source": [
    "#Subset of the data for the other tables in the schema\n",
    "df = pl.read_parquet(\"data/hist.parquet\", n_rows=30_000_000, low_memory=True)"
   ]
  },
  {
   "cell_type": "code",
   "execution_count": 67,
   "metadata": {},
   "outputs": [
    {
     "data": {
      "text/html": [
       "<div><style>\n",
       ".dataframe > thead > tr,\n",
       ".dataframe > tbody > tr {\n",
       "  text-align: right;\n",
       "  white-space: pre-wrap;\n",
       "}\n",
       "</style>\n",
       "<small>shape: (425, 5)</small><table border=\"1\" class=\"dataframe\"><thead><tr><th>station_complex_id</th><th>station_complex</th><th>borough</th><th>latitude</th><th>longitude</th></tr><tr><td>str</td><td>str</td><td>str</td><td>f64</td><td>f64</td></tr></thead><tbody><tr><td>&quot;1&quot;</td><td>&quot;Astoria-Ditmar…</td><td>&quot;Queens&quot;</td><td>40.775036</td><td>-73.912033</td></tr><tr><td>&quot;10&quot;</td><td>&quot;49 St (N,R,W)&quot;</td><td>&quot;Manhattan&quot;</td><td>40.759899</td><td>-73.984138</td></tr><tr><td>&quot;100&quot;</td><td>&quot;Hewes St (M,J)…</td><td>&quot;Brooklyn&quot;</td><td>40.706871</td><td>-73.95343</td></tr><tr><td>&quot;101&quot;</td><td>&quot;Marcy Av (M,J,…</td><td>&quot;Brooklyn&quot;</td><td>40.708359</td><td>-73.957756</td></tr><tr><td>&quot;103&quot;</td><td>&quot;Bowery (J,Z)&quot;</td><td>&quot;Manhattan&quot;</td><td>40.72028</td><td>-73.993912</td></tr><tr><td>&hellip;</td><td>&hellip;</td><td>&hellip;</td><td>&hellip;</td><td>&hellip;</td></tr><tr><td>&quot;95&quot;</td><td>&quot;Gates Av (J,Z)…</td><td>&quot;Brooklyn&quot;</td><td>40.689629</td><td>-73.922272</td></tr><tr><td>&quot;96&quot;</td><td>&quot;Kosciuszko St …</td><td>&quot;Brooklyn&quot;</td><td>40.69334</td><td>-73.928818</td></tr><tr><td>&quot;97&quot;</td><td>&quot;Myrtle Av (M,J…</td><td>&quot;Brooklyn&quot;</td><td>40.697208</td><td>-73.935654</td></tr><tr><td>&quot;98&quot;</td><td>&quot;Flushing Av (M…</td><td>&quot;Brooklyn&quot;</td><td>40.70026</td><td>-73.941124</td></tr><tr><td>&quot;99&quot;</td><td>&quot;Lorimer St (M,…</td><td>&quot;Brooklyn&quot;</td><td>40.703869</td><td>-73.947411</td></tr></tbody></table></div>"
      ],
      "text/plain": [
       "shape: (425, 5)\n",
       "┌────────────────────┬────────────────────────────┬───────────┬───────────┬────────────┐\n",
       "│ station_complex_id ┆ station_complex            ┆ borough   ┆ latitude  ┆ longitude  │\n",
       "│ ---                ┆ ---                        ┆ ---       ┆ ---       ┆ ---        │\n",
       "│ str                ┆ str                        ┆ str       ┆ f64       ┆ f64        │\n",
       "╞════════════════════╪════════════════════════════╪═══════════╪═══════════╪════════════╡\n",
       "│ 1                  ┆ Astoria-Ditmars Blvd (N,W) ┆ Queens    ┆ 40.775036 ┆ -73.912033 │\n",
       "│ 10                 ┆ 49 St (N,R,W)              ┆ Manhattan ┆ 40.759899 ┆ -73.984138 │\n",
       "│ 100                ┆ Hewes St (M,J)             ┆ Brooklyn  ┆ 40.706871 ┆ -73.95343  │\n",
       "│ 101                ┆ Marcy Av (M,J,Z)           ┆ Brooklyn  ┆ 40.708359 ┆ -73.957756 │\n",
       "│ 103                ┆ Bowery (J,Z)               ┆ Manhattan ┆ 40.72028  ┆ -73.993912 │\n",
       "│ …                  ┆ …                          ┆ …         ┆ …         ┆ …          │\n",
       "│ 95                 ┆ Gates Av (J,Z)             ┆ Brooklyn  ┆ 40.689629 ┆ -73.922272 │\n",
       "│ 96                 ┆ Kosciuszko St (J)          ┆ Brooklyn  ┆ 40.69334  ┆ -73.928818 │\n",
       "│ 97                 ┆ Myrtle Av (M,J,Z)          ┆ Brooklyn  ┆ 40.697208 ┆ -73.935654 │\n",
       "│ 98                 ┆ Flushing Av (M,J)          ┆ Brooklyn  ┆ 40.70026  ┆ -73.941124 │\n",
       "│ 99                 ┆ Lorimer St (M,J)           ┆ Brooklyn  ┆ 40.703869 ┆ -73.947411 │\n",
       "└────────────────────┴────────────────────────────┴───────────┴───────────┴────────────┘"
      ]
     },
     "execution_count": 67,
     "metadata": {},
     "output_type": "execute_result"
    },
    {
     "ename": "",
     "evalue": "",
     "output_type": "error",
     "traceback": [
      "\u001b[1;31mThe Kernel crashed while executing code in the current cell or a previous cell. \n",
      "\u001b[1;31mPlease review the code in the cell(s) to identify a possible cause of the failure. \n",
      "\u001b[1;31mClick <a href='https://aka.ms/vscodeJupyterKernelCrash'>here</a> for more info. \n",
      "\u001b[1;31mView Jupyter <a href='command:jupyter.viewOutput'>log</a> for further details."
     ]
    }
   ],
   "source": [
    "#Stations table\n",
    "stations = df.select([\"station_complex_id\", \"station_complex\", \"borough\", \"latitude\", \"longitude\"]).unique()\n",
    "\n",
    "df_with_precision = stations.with_columns(\n",
    "    [(pl.struct([\"latitude\", \"longitude\"]).map_batches(\n",
    "        lambda batch: batch.map_elements(add_dec_prec, return_dtype=pl.Int64)\n",
    "    )).alias(\"total_precision\"),\n",
    "     pl.col(\"latitude\").cast(pl.Float64),\n",
    "     pl.col(\"longitude\").cast(pl.Float64)]\n",
    ")\n",
    "df_with_precision = df_with_precision.sort(['station_complex_id', 'total_precision'], descending=[False, True]).unique(subset=[\"station_complex_id\"])\n",
    "\n",
    "stations = df_with_precision.select([\"station_complex_id\", \"station_complex\", \"borough\", \"latitude\", \"longitude\"]).unique().sort(\"station_complex_id\")\n",
    "\n",
    "stations = stations.with_columns(\n",
    "    pl.col(\"station_complex\")\n",
    "    .str.replace_all(r\"\\,S\", \"\")\n",
    "    .str.replace_all(r\"\\(110 St\\)\", \"- 110 St\")\n",
    "    .str.replace_all(r\"\\/Botanic Garden \\(S\\)\", \"\")\n",
    "    .str.strip_chars()\n",
    "    ).filter(~pl.col(\"station_complex_id\").str.contains(\"TRAM\")\n",
    "    ).filter(~pl.col(\"station_complex\").str.contains(r\"\\(S\\)\")\n",
    "    ).sort(\"station_complex_id\")\n",
    "stations"
   ]
  },
  {
   "cell_type": "code",
   "execution_count": 104,
   "metadata": {},
   "outputs": [
    {
     "data": {
      "text/html": [
       "<div><style>\n",
       ".dataframe > thead > tr,\n",
       ".dataframe > tbody > tr {\n",
       "  text-align: right;\n",
       "  white-space: pre-wrap;\n",
       "}\n",
       "</style>\n",
       "<small>shape: (22, 1)</small><table border=\"1\" class=\"dataframe\"><thead><tr><th>route_name</th></tr><tr><td>str</td></tr></thead><tbody><tr><td>&quot;1&quot;</td></tr><tr><td>&quot;2&quot;</td></tr><tr><td>&quot;3&quot;</td></tr><tr><td>&quot;4&quot;</td></tr><tr><td>&quot;5&quot;</td></tr><tr><td>&hellip;</td></tr><tr><td>&quot;N&quot;</td></tr><tr><td>&quot;Q&quot;</td></tr><tr><td>&quot;R&quot;</td></tr><tr><td>&quot;W&quot;</td></tr><tr><td>&quot;Z&quot;</td></tr></tbody></table></div>"
      ],
      "text/plain": [
       "shape: (22, 1)\n",
       "┌────────────┐\n",
       "│ route_name │\n",
       "│ ---        │\n",
       "│ str        │\n",
       "╞════════════╡\n",
       "│ 1          │\n",
       "│ 2          │\n",
       "│ 3          │\n",
       "│ 4          │\n",
       "│ 5          │\n",
       "│ …          │\n",
       "│ N          │\n",
       "│ Q          │\n",
       "│ R          │\n",
       "│ W          │\n",
       "│ Z          │\n",
       "└────────────┘"
      ]
     },
     "execution_count": 104,
     "metadata": {},
     "output_type": "execute_result"
    }
   ],
   "source": [
    "#Routes table\n",
    "station_list = stations[\"station_complex\"].to_list()\n",
    "regex_pattern = r\"\\(([^)]+)\\)\"\n",
    "\n",
    "unique_train_lines = set()\n",
    "\n",
    "for station in station_list:\n",
    "    matches = re.findall(regex_pattern, station)\n",
    "    if matches:\n",
    "        for line in matches[0].split(','):\n",
    "            unique_train_lines.add(line.strip())\n",
    "\n",
    "\n",
    "routes = pl.DataFrame({\n",
    "    \"route_name\": sorted(list(unique_train_lines))\n",
    "})\n",
    "routes"
   ]
  },
  {
   "cell_type": "code",
   "execution_count": 65,
   "metadata": {},
   "outputs": [
    {
     "data": {
      "text/html": [
       "<div><style>\n",
       ".dataframe > thead > tr,\n",
       ".dataframe > tbody > tr {\n",
       "  text-align: right;\n",
       "  white-space: pre-wrap;\n",
       "}\n",
       "</style>\n",
       "<small>shape: (737, 2)</small><table border=\"1\" class=\"dataframe\"><thead><tr><th>station_complex_id</th><th>route_name</th></tr><tr><td>str</td><td>str</td></tr></thead><tbody><tr><td>&quot;1&quot;</td><td>&quot;W&quot;</td></tr><tr><td>&quot;1&quot;</td><td>&quot;N&quot;</td></tr><tr><td>&quot;10&quot;</td><td>&quot;R&quot;</td></tr><tr><td>&quot;10&quot;</td><td>&quot;N&quot;</td></tr><tr><td>&quot;10&quot;</td><td>&quot;W&quot;</td></tr><tr><td>&hellip;</td><td>&hellip;</td></tr><tr><td>&quot;97&quot;</td><td>&quot;J&quot;</td></tr><tr><td>&quot;98&quot;</td><td>&quot;J&quot;</td></tr><tr><td>&quot;98&quot;</td><td>&quot;M&quot;</td></tr><tr><td>&quot;99&quot;</td><td>&quot;M&quot;</td></tr><tr><td>&quot;99&quot;</td><td>&quot;J&quot;</td></tr></tbody></table></div>"
      ],
      "text/plain": [
       "shape: (737, 2)\n",
       "┌────────────────────┬────────────┐\n",
       "│ station_complex_id ┆ route_name │\n",
       "│ ---                ┆ ---        │\n",
       "│ str                ┆ str        │\n",
       "╞════════════════════╪════════════╡\n",
       "│ 1                  ┆ W          │\n",
       "│ 1                  ┆ N          │\n",
       "│ 10                 ┆ R          │\n",
       "│ 10                 ┆ N          │\n",
       "│ 10                 ┆ W          │\n",
       "│ …                  ┆ …          │\n",
       "│ 97                 ┆ J          │\n",
       "│ 98                 ┆ J          │\n",
       "│ 98                 ┆ M          │\n",
       "│ 99                 ┆ M          │\n",
       "│ 99                 ┆ J          │\n",
       "└────────────────────┴────────────┘"
      ]
     },
     "execution_count": 65,
     "metadata": {},
     "output_type": "execute_result"
    }
   ],
   "source": [
    "#Station_routes table\n",
    "station_routes = stations.with_columns(\n",
    "    pl.col(\"station_complex\")\n",
    "    .str.extract_all(r\"\\((.*?)\\)\")\n",
    "    .map_elements(lambda groups: ','.join(groups), return_dtype=str)\n",
    "    .str.replace_all(r\"\\(\", \"\")\n",
    "    .str.replace_all(r\"\\)\", \"\")\n",
    "    .str.split(\",\")\n",
    "    .alias(\"route_list\"))\n",
    "\n",
    "# Step 3: Explode the list into separate rows\n",
    "stations_exploded = station_routes.explode(\"route_list\")\n",
    "\n",
    "# Step 4: Select and rename columns to fit the SQL schema, remove duplicates\n",
    "station_routes = stations_exploded.select([\n",
    "    pl.col(\"station_complex_id\"),\n",
    "    pl.col(\"route_list\").alias(\"route_name\")\n",
    "]).unique()\n",
    "\n",
    "station_routes = station_routes.sort(\"station_complex_id\")\n",
    "station_routes"
   ]
  },
  {
   "cell_type": "code",
   "execution_count": null,
   "metadata": {},
   "outputs": [],
   "source": []
  }
 ],
 "metadata": {
  "kernelspec": {
   "display_name": "Python 3",
   "language": "python",
   "name": "python3"
  },
  "language_info": {
   "codemirror_mode": {
    "name": "ipython",
    "version": 3
   },
   "file_extension": ".py",
   "mimetype": "text/x-python",
   "name": "python",
   "nbconvert_exporter": "python",
   "pygments_lexer": "ipython3",
   "version": "3.11.6"
  },
  "orig_nbformat": 4
 },
 "nbformat": 4,
 "nbformat_minor": 2
}
