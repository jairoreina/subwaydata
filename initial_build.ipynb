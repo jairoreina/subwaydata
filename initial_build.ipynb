{
 "cells": [
  {
   "cell_type": "markdown",
   "metadata": {},
   "source": [
    "https://data.ny.gov/Transportation/MTA-Subway-Hourly-Ridership-Beginning-February-202/wujg-7c2s/about_data"
   ]
  },
  {
   "cell_type": "code",
   "execution_count": 1,
   "metadata": {},
   "outputs": [],
   "source": [
    "import polars as pl\n",
    "import re"
   ]
  },
  {
   "cell_type": "code",
   "execution_count": 2,
   "metadata": {},
   "outputs": [],
   "source": [
    "def add_dec_prec(row):\n",
    "    latitude = row[\"latitude\"]\n",
    "    longitude = row[\"longitude\"]\n",
    "    # Assuming latitude and longitude are strings; extract the precision part\n",
    "    lat_precision = len(latitude.split(\".\")[-1]) if \".\" in latitude else 0\n",
    "    long_precision = len(longitude.split(\".\")[-1]) if \".\" in longitude else 0\n",
    "    # Return the total precision as the sum of both\n",
    "    return lat_precision + long_precision"
   ]
  },
  {
   "cell_type": "code",
   "execution_count": 3,
   "metadata": {},
   "outputs": [],
   "source": [
    "def clean_column_name(name):\n",
    "    return re.sub(r\"[ \\-&]\", \"_\", name).replace(\"___\", \"_\").replace(\"__\",\"_\").lower()"
   ]
  },
  {
   "cell_type": "code",
   "execution_count": 4,
   "metadata": {},
   "outputs": [
    {
     "data": {
      "text/html": [
       "<div><style>\n",
       ".dataframe > thead > tr,\n",
       ".dataframe > tbody > tr {\n",
       "  text-align: right;\n",
       "  white-space: pre-wrap;\n",
       "}\n",
       "</style>\n",
       "<small>shape: (7_734_974, 15)</small><table border=\"1\" class=\"dataframe\"><thead><tr><th>transit_timestamp</th><th>station_complex_id</th><th>metrocard_fair_fare</th><th>metrocard_full_fare</th><th>metrocard_other</th><th>metrocard_seniors_disability</th><th>metrocard_students</th><th>metrocard_unlimited_30_day</th><th>metrocard_unlimited_7_day</th><th>omny_full_fare</th><th>omny_other</th><th>omny_seniors_disability</th><th>total_metrocard_ridership</th><th>total_omny_ridership</th><th>total_ridership</th></tr><tr><td>datetime[μs]</td><td>str</td><td>i64</td><td>i64</td><td>i64</td><td>i64</td><td>i64</td><td>i64</td><td>i64</td><td>i64</td><td>i64</td><td>i64</td><td>i64</td><td>i64</td><td>i64</td></tr></thead><tbody><tr><td>2022-02-01 00:00:00</td><td>&quot;1&quot;</td><td>0</td><td>10</td><td>0</td><td>0</td><td>0</td><td>3</td><td>4</td><td>0</td><td>0</td><td>0</td><td>17</td><td>0</td><td>17</td></tr><tr><td>2022-02-01 00:00:00</td><td>&quot;10&quot;</td><td>2</td><td>41</td><td>2</td><td>10</td><td>0</td><td>16</td><td>29</td><td>0</td><td>0</td><td>0</td><td>100</td><td>0</td><td>100</td></tr><tr><td>2022-02-01 00:00:00</td><td>&quot;100&quot;</td><td>0</td><td>6</td><td>0</td><td>0</td><td>0</td><td>1</td><td>3</td><td>0</td><td>0</td><td>0</td><td>10</td><td>0</td><td>10</td></tr><tr><td>2022-02-01 00:00:00</td><td>&quot;101&quot;</td><td>4</td><td>13</td><td>3</td><td>1</td><td>0</td><td>2</td><td>2</td><td>0</td><td>0</td><td>0</td><td>25</td><td>0</td><td>25</td></tr><tr><td>2022-02-01 00:00:00</td><td>&quot;103&quot;</td><td>0</td><td>8</td><td>0</td><td>0</td><td>0</td><td>6</td><td>3</td><td>0</td><td>0</td><td>0</td><td>17</td><td>0</td><td>17</td></tr><tr><td>&hellip;</td><td>&hellip;</td><td>&hellip;</td><td>&hellip;</td><td>&hellip;</td><td>&hellip;</td><td>&hellip;</td><td>&hellip;</td><td>&hellip;</td><td>&hellip;</td><td>&hellip;</td><td>&hellip;</td><td>&hellip;</td><td>&hellip;</td><td>&hellip;</td></tr><tr><td>2024-03-16 23:00:00</td><td>&quot;95&quot;</td><td>2</td><td>6</td><td>0</td><td>0</td><td>0</td><td>2</td><td>9</td><td>17</td><td>0</td><td>0</td><td>19</td><td>17</td><td>36</td></tr><tr><td>2024-03-16 23:00:00</td><td>&quot;96&quot;</td><td>5</td><td>4</td><td>2</td><td>1</td><td>0</td><td>3</td><td>7</td><td>23</td><td>0</td><td>0</td><td>22</td><td>23</td><td>45</td></tr><tr><td>2024-03-16 23:00:00</td><td>&quot;97&quot;</td><td>6</td><td>10</td><td>3</td><td>0</td><td>0</td><td>12</td><td>4</td><td>104</td><td>0</td><td>0</td><td>35</td><td>104</td><td>139</td></tr><tr><td>2024-03-16 23:00:00</td><td>&quot;98&quot;</td><td>1</td><td>7</td><td>5</td><td>1</td><td>0</td><td>5</td><td>8</td><td>24</td><td>0</td><td>0</td><td>27</td><td>24</td><td>51</td></tr><tr><td>2024-03-16 23:00:00</td><td>&quot;99&quot;</td><td>1</td><td>4</td><td>2</td><td>0</td><td>0</td><td>8</td><td>4</td><td>18</td><td>0</td><td>0</td><td>19</td><td>18</td><td>37</td></tr></tbody></table></div>"
      ],
      "text/plain": [
       "shape: (7_734_974, 15)\n",
       "┌───────────┬───────────┬───────────┬───────────┬───┬───────────┬───────────┬───────────┬──────────┐\n",
       "│ transit_t ┆ station_c ┆ metrocard ┆ metrocard ┆ … ┆ omny_seni ┆ total_met ┆ total_omn ┆ total_ri │\n",
       "│ imestamp  ┆ omplex_id ┆ _fair_far ┆ _full_far ┆   ┆ ors_disab ┆ rocard_ri ┆ y_ridersh ┆ dership  │\n",
       "│ ---       ┆ ---       ┆ e         ┆ e         ┆   ┆ ility     ┆ dership   ┆ ip        ┆ ---      │\n",
       "│ datetime[ ┆ str       ┆ ---       ┆ ---       ┆   ┆ ---       ┆ ---       ┆ ---       ┆ i64      │\n",
       "│ μs]       ┆           ┆ i64       ┆ i64       ┆   ┆ i64       ┆ i64       ┆ i64       ┆          │\n",
       "╞═══════════╪═══════════╪═══════════╪═══════════╪═══╪═══════════╪═══════════╪═══════════╪══════════╡\n",
       "│ 2022-02-0 ┆ 1         ┆ 0         ┆ 10        ┆ … ┆ 0         ┆ 17        ┆ 0         ┆ 17       │\n",
       "│ 1         ┆           ┆           ┆           ┆   ┆           ┆           ┆           ┆          │\n",
       "│ 00:00:00  ┆           ┆           ┆           ┆   ┆           ┆           ┆           ┆          │\n",
       "│ 2022-02-0 ┆ 10        ┆ 2         ┆ 41        ┆ … ┆ 0         ┆ 100       ┆ 0         ┆ 100      │\n",
       "│ 1         ┆           ┆           ┆           ┆   ┆           ┆           ┆           ┆          │\n",
       "│ 00:00:00  ┆           ┆           ┆           ┆   ┆           ┆           ┆           ┆          │\n",
       "│ 2022-02-0 ┆ 100       ┆ 0         ┆ 6         ┆ … ┆ 0         ┆ 10        ┆ 0         ┆ 10       │\n",
       "│ 1         ┆           ┆           ┆           ┆   ┆           ┆           ┆           ┆          │\n",
       "│ 00:00:00  ┆           ┆           ┆           ┆   ┆           ┆           ┆           ┆          │\n",
       "│ 2022-02-0 ┆ 101       ┆ 4         ┆ 13        ┆ … ┆ 0         ┆ 25        ┆ 0         ┆ 25       │\n",
       "│ 1         ┆           ┆           ┆           ┆   ┆           ┆           ┆           ┆          │\n",
       "│ 00:00:00  ┆           ┆           ┆           ┆   ┆           ┆           ┆           ┆          │\n",
       "│ 2022-02-0 ┆ 103       ┆ 0         ┆ 8         ┆ … ┆ 0         ┆ 17        ┆ 0         ┆ 17       │\n",
       "│ 1         ┆           ┆           ┆           ┆   ┆           ┆           ┆           ┆          │\n",
       "│ 00:00:00  ┆           ┆           ┆           ┆   ┆           ┆           ┆           ┆          │\n",
       "│ …         ┆ …         ┆ …         ┆ …         ┆ … ┆ …         ┆ …         ┆ …         ┆ …        │\n",
       "│ 2024-03-1 ┆ 95        ┆ 2         ┆ 6         ┆ … ┆ 0         ┆ 19        ┆ 17        ┆ 36       │\n",
       "│ 6         ┆           ┆           ┆           ┆   ┆           ┆           ┆           ┆          │\n",
       "│ 23:00:00  ┆           ┆           ┆           ┆   ┆           ┆           ┆           ┆          │\n",
       "│ 2024-03-1 ┆ 96        ┆ 5         ┆ 4         ┆ … ┆ 0         ┆ 22        ┆ 23        ┆ 45       │\n",
       "│ 6         ┆           ┆           ┆           ┆   ┆           ┆           ┆           ┆          │\n",
       "│ 23:00:00  ┆           ┆           ┆           ┆   ┆           ┆           ┆           ┆          │\n",
       "│ 2024-03-1 ┆ 97        ┆ 6         ┆ 10        ┆ … ┆ 0         ┆ 35        ┆ 104       ┆ 139      │\n",
       "│ 6         ┆           ┆           ┆           ┆   ┆           ┆           ┆           ┆          │\n",
       "│ 23:00:00  ┆           ┆           ┆           ┆   ┆           ┆           ┆           ┆          │\n",
       "│ 2024-03-1 ┆ 98        ┆ 1         ┆ 7         ┆ … ┆ 0         ┆ 27        ┆ 24        ┆ 51       │\n",
       "│ 6         ┆           ┆           ┆           ┆   ┆           ┆           ┆           ┆          │\n",
       "│ 23:00:00  ┆           ┆           ┆           ┆   ┆           ┆           ┆           ┆          │\n",
       "│ 2024-03-1 ┆ 99        ┆ 1         ┆ 4         ┆ … ┆ 0         ┆ 19        ┆ 18        ┆ 37       │\n",
       "│ 6         ┆           ┆           ┆           ┆   ┆           ┆           ┆           ┆          │\n",
       "│ 23:00:00  ┆           ┆           ┆           ┆   ┆           ┆           ┆           ┆          │\n",
       "└───────────┴───────────┴───────────┴───────────┴───┴───────────┴───────────┴───────────┴──────────┘"
      ]
     },
     "execution_count": 4,
     "metadata": {},
     "output_type": "execute_result"
    }
   ],
   "source": [
    "#Ridership table\n",
    "columns_to_keep = [\"transit_timestamp\", \"station_complex_id\", \"fare_class_category\", \"ridership\"]\n",
    "original_ridership = pl.read_parquet(\"data/hist.parquet\", columns=columns_to_keep, low_memory=True)\n",
    "\n",
    "ridership_wide = original_ridership.with_columns(\n",
    "    [pl.col(\"transit_timestamp\").str.strptime(pl.Datetime, format=\"%m/%d/%Y %I:%M:%S %p\"),\n",
    "     pl.col(\"ridership\").cast(pl.Int16)]\n",
    ").pivot(\n",
    "    index=[\"transit_timestamp\", \"station_complex_id\"],\n",
    "    columns=\"fare_class_category\",\n",
    "    values=\"ridership\",\n",
    "    aggregate_function=\"sum\",\n",
    "    sort_columns=True\n",
    ").sort(\n",
    "    [\"transit_timestamp\", \"station_complex_id\"], descending=[False, False]\n",
    ").fill_null(0)\n",
    "\n",
    "metrocard_columns = [col for col in ridership_wide.columns if \"Metrocard\" in col]\n",
    "omny_columns = [col for col in ridership_wide.columns if \"OMNY\" in col]\n",
    "ridership_columns = [col for col in ridership_wide.columns if \"Metrocard\" in col or \"OMNY\" in col]\n",
    "\n",
    "ridership = ridership_wide.with_columns(\n",
    "    total_metrocard_ridership=pl.sum_horizontal(col for col in metrocard_columns),\n",
    "    total_omny_ridership=pl.sum_horizontal(col for col in omny_columns),\n",
    "    total_ridership=pl.sum_horizontal(col for col in ridership_columns),\n",
    ")\n",
    "\n",
    "rename_mapping = {col: clean_column_name(col) for col in ridership.columns}\n",
    "ridership = ridership.rename(rename_mapping)\n",
    "\n",
    "#Since we got rid of the shuttle and TRAM lines, we filter them out here too.\n",
    "ridership = ridership.filter(~pl.col(\"station_complex_id\").str.contains(\"TRAM\")).filter(~pl.col(\"station_complex_id\").str.contains(\"141\"))\n",
    "ridership"
   ]
  },
  {
   "cell_type": "code",
   "execution_count": 4,
   "metadata": {},
   "outputs": [],
   "source": [
    "#Subset of the data for the other tables in the schema\n",
    "df = pl.read_parquet(\"data/hist.parquet\", n_rows=30_000_000, low_memory=True)"
   ]
  },
  {
   "cell_type": "code",
   "execution_count": 5,
   "metadata": {},
   "outputs": [
    {
     "data": {
      "text/html": [
       "<div><style>\n",
       ".dataframe > thead > tr,\n",
       ".dataframe > tbody > tr {\n",
       "  text-align: right;\n",
       "  white-space: pre-wrap;\n",
       "}\n",
       "</style>\n",
       "<small>shape: (425, 5)</small><table border=\"1\" class=\"dataframe\"><thead><tr><th>station_complex_id</th><th>station_complex</th><th>borough</th><th>latitude</th><th>longitude</th></tr><tr><td>str</td><td>str</td><td>str</td><td>f64</td><td>f64</td></tr></thead><tbody><tr><td>&quot;1&quot;</td><td>&quot;Astoria-Ditmar…</td><td>&quot;Queens&quot;</td><td>40.775036</td><td>-73.912033</td></tr><tr><td>&quot;10&quot;</td><td>&quot;49 St (N,R,W)&quot;</td><td>&quot;Manhattan&quot;</td><td>40.759899</td><td>-73.984138</td></tr><tr><td>&quot;100&quot;</td><td>&quot;Hewes St (M,J)…</td><td>&quot;Brooklyn&quot;</td><td>40.706871</td><td>-73.95343</td></tr><tr><td>&quot;101&quot;</td><td>&quot;Marcy Av (M,J,…</td><td>&quot;Brooklyn&quot;</td><td>40.708359</td><td>-73.957756</td></tr><tr><td>&quot;103&quot;</td><td>&quot;Bowery (J,Z)&quot;</td><td>&quot;Manhattan&quot;</td><td>40.72028</td><td>-73.993912</td></tr><tr><td>&hellip;</td><td>&hellip;</td><td>&hellip;</td><td>&hellip;</td><td>&hellip;</td></tr><tr><td>&quot;95&quot;</td><td>&quot;Gates Av (J,Z)…</td><td>&quot;Brooklyn&quot;</td><td>40.689629</td><td>-73.922272</td></tr><tr><td>&quot;96&quot;</td><td>&quot;Kosciuszko St …</td><td>&quot;Brooklyn&quot;</td><td>40.69334</td><td>-73.928818</td></tr><tr><td>&quot;97&quot;</td><td>&quot;Myrtle Av (M,J…</td><td>&quot;Brooklyn&quot;</td><td>40.697208</td><td>-73.935654</td></tr><tr><td>&quot;98&quot;</td><td>&quot;Flushing Av (M…</td><td>&quot;Brooklyn&quot;</td><td>40.70026</td><td>-73.941124</td></tr><tr><td>&quot;99&quot;</td><td>&quot;Lorimer St (M,…</td><td>&quot;Brooklyn&quot;</td><td>40.703869</td><td>-73.947411</td></tr></tbody></table></div>"
      ],
      "text/plain": [
       "shape: (425, 5)\n",
       "┌────────────────────┬────────────────────────────┬───────────┬───────────┬────────────┐\n",
       "│ station_complex_id ┆ station_complex            ┆ borough   ┆ latitude  ┆ longitude  │\n",
       "│ ---                ┆ ---                        ┆ ---       ┆ ---       ┆ ---        │\n",
       "│ str                ┆ str                        ┆ str       ┆ f64       ┆ f64        │\n",
       "╞════════════════════╪════════════════════════════╪═══════════╪═══════════╪════════════╡\n",
       "│ 1                  ┆ Astoria-Ditmars Blvd (N,W) ┆ Queens    ┆ 40.775036 ┆ -73.912033 │\n",
       "│ 10                 ┆ 49 St (N,R,W)              ┆ Manhattan ┆ 40.759899 ┆ -73.984138 │\n",
       "│ 100                ┆ Hewes St (M,J)             ┆ Brooklyn  ┆ 40.706871 ┆ -73.95343  │\n",
       "│ 101                ┆ Marcy Av (M,J,Z)           ┆ Brooklyn  ┆ 40.708359 ┆ -73.957756 │\n",
       "│ 103                ┆ Bowery (J,Z)               ┆ Manhattan ┆ 40.72028  ┆ -73.993912 │\n",
       "│ …                  ┆ …                          ┆ …         ┆ …         ┆ …          │\n",
       "│ 95                 ┆ Gates Av (J,Z)             ┆ Brooklyn  ┆ 40.689629 ┆ -73.922272 │\n",
       "│ 96                 ┆ Kosciuszko St (J)          ┆ Brooklyn  ┆ 40.69334  ┆ -73.928818 │\n",
       "│ 97                 ┆ Myrtle Av (M,J,Z)          ┆ Brooklyn  ┆ 40.697208 ┆ -73.935654 │\n",
       "│ 98                 ┆ Flushing Av (M,J)          ┆ Brooklyn  ┆ 40.70026  ┆ -73.941124 │\n",
       "│ 99                 ┆ Lorimer St (M,J)           ┆ Brooklyn  ┆ 40.703869 ┆ -73.947411 │\n",
       "└────────────────────┴────────────────────────────┴───────────┴───────────┴────────────┘"
      ]
     },
     "execution_count": 5,
     "metadata": {},
     "output_type": "execute_result"
    }
   ],
   "source": [
    "#Stations table\n",
    "stations = df.select([\"station_complex_id\", \"station_complex\", \"borough\", \"latitude\", \"longitude\"]).unique()\n",
    "\n",
    "df_with_precision = stations.with_columns(\n",
    "    [(pl.struct([\"latitude\", \"longitude\"]).map_batches(\n",
    "        lambda batch: batch.map_elements(add_dec_prec, return_dtype=pl.Int64)\n",
    "    )).alias(\"total_precision\"),\n",
    "     pl.col(\"latitude\").cast(pl.Float64),\n",
    "     pl.col(\"longitude\").cast(pl.Float64)]\n",
    ")\n",
    "df_with_precision = df_with_precision.sort(['station_complex_id', 'total_precision'], descending=[False, True]).unique(subset=[\"station_complex_id\"])\n",
    "\n",
    "stations = df_with_precision.select([\"station_complex_id\", \"station_complex\", \"borough\", \"latitude\", \"longitude\"]).unique().sort(\"station_complex_id\")\n",
    "\n",
    "stations = stations.with_columns(\n",
    "    pl.col(\"station_complex\")\n",
    "    .str.replace_all(r\"\\,S\", \"\")\n",
    "    .str.replace_all(r\"\\(110 St\\)\", \"- 110 St\")\n",
    "    .str.replace_all(r\"\\/Botanic Garden \\(S\\)\", \"\")\n",
    "    .str.strip_chars()\n",
    "    ).filter(~pl.col(\"station_complex_id\").str.contains(\"TRAM\")\n",
    "    ).filter(~pl.col(\"station_complex\").str.contains(r\"\\(S\\)\")\n",
    "    ).sort(\"station_complex_id\")\n",
    "stations"
   ]
  },
  {
   "cell_type": "code",
   "execution_count": 9,
   "metadata": {},
   "outputs": [
    {
     "name": "stdout",
     "output_type": "stream",
     "text": [
      "['Astoria-Ditmars Blvd (N,W)', '49 St (N,R,W)', 'Hewes St (M,J)', 'Marcy Av (M,J,Z)', 'Bowery (J,Z)', 'Broad St (J,Z)', 'Middle Village-Metropolitan Av (M)', 'Fresh Pond Rd (M)', 'Forest Av (M)', 'Seneca Av (M)', 'Knickerbocker Av (M)', 'Central Av (M)', '3 Av (L)', '1 Av (L)', 'Bedford Av (L)', 'Graham Av (L)', 'Grand St (L)', 'Montrose Av (L)', 'Morgan Av (L)', 'Jefferson St (L)', 'DeKalb Av (L)', 'Halsey St (L)', '28 St (R,W)', 'Wilson Av (L)', 'Bushwick Av-Aberdeen St (L)', 'Atlantic Av (L)', 'Sutter Av (L)', 'Livonia Av (L)', 'New Lots Av (L)', 'East 105 St (L)', 'Canarsie-Rockaway Pkwy (L)', '23 St (R,W)', 'Inwood-207 St (A)', 'Dyckman St (A)', '190 St (A)', '181 St (A)', '175 St (A)', '163 St-Amsterdam Av (C)', '155 St (C)', '145 St (A,C,B,D)', '135 St (C,B)', '125 St (A,C,B,D)', '116 St (C,B)', 'Cathedral Pkwy - 110 St (C,B)', '103 St (C,B)', '96 St (C,B)', '86 St (C,B)', '81 St-Museum of Natural History (C,B)', '8 St-NYU (R,W)', '72 St (C,B)', '50 St (C,E)', '34 St-Penn Station (A,C,E)', '23 St (C,E)', 'W 4 St-Wash Sq (A,C,E,B,D,F,M)', 'Spring St (C,E)', 'Canal St (A,C,E)', 'Prince St (R,W)', 'High St (A,C)', 'Hoyt-Schermerhorn Sts (A,C,G)', 'Lafayette Av (C)', 'Clinton-Washington Avs (C)', 'Nostrand Av (A,C)', 'Kingston-Throop Avs (C)', 'Utica Av (A,C)', 'Ralph Av (C)', 'Rockaway Av (C)', 'Liberty Av (C)', 'Van Siclen Av (C)', 'Shepherd Av (C)', 'Euclid Av (A,C)', 'Grant Av (A)', '80 St (A)', '88 St (A)', 'Rockaway Blvd (A)', '104 St (A)', '111 St (A)', 'Ozone Park-Lefferts Blvd (A)', 'Aqueduct Racetrack (A)', 'Aqueduct-N Conduit Av (A)', 'Howard Beach-JFK Airport (A)', 'Broad Channel (A)', 'Astoria Blvd (N,W)', 'City Hall (R,W)', 'Beach 90 St (A)', 'Beach 98 St (A)', 'Beach 105 St (A)', 'Rockaway Park-Beach 116 St (A)', 'Beach 67 St (A)', 'Beach 60 St (A)', 'Beach 44 St (A)', 'Beach 36 St (A)', 'Beach 25 St (A)', 'Far Rockaway-Mott Av (A)', 'Norwood-205 St (D)', 'Bedford Park Blvd (B,D)', 'Kingsbridge Rd (B,D)', 'Fordham Rd (B,D)', '182-183 Sts (B,D)', 'Tremont Av (B,D)', '174-175 Sts (B,D)', '170 St (B,D)', '167 St (B,D)', 'Rector St (R,W)', '155 St (B,D)', '21 St-Queensbridge (F)', 'Roosevelt Island (F)', 'Lexington Av/63 St (F,Q)', '57 St (F)', '47-50 Sts-Rockefeller Ctr (B,D,F,M)', '23 St (F,M)', 'Grand St (B,D)', '2 Av (F)', 'East Broadway (F)', 'York St (F)', 'Bergen St (F,G)', 'Carroll St (F,G)', 'Smith-9 Sts (F,G)', '7 Av (F,G)', '15 St-Prospect Park (F,G)', 'Fort Hamilton Pkwy (F,G)', 'Church Av (F,G)', 'Ditmas Av (F)', '18 Av (F)', 'Avenue I (F)', 'Bay Pkwy (F)', 'Avenue N (F)', 'Avenue P (F)', 'Kings Hwy (F)', 'Avenue U (F)', 'Avenue X (F)', 'Neptune Av (F)', 'Jamaica-179 St (F)', '169 St (F)', 'Parsons Blvd (F)', 'Sutphin Blvd (F)', 'Briarwood (E,F)', 'Kew Gardens-Union Tpke (E,F)', 'DeKalb Av (B,Q,R)', '75 Av (E,F)', 'Forest Hills-71 Av (E,F,M,R)', '67 Av (M,R)', '63 Dr-Rego Park (M,R)', 'Woodhaven Blvd (M,R)', 'Grand Av-Newtown (M,R)', 'Elmhurst Av (M,R)', '65 St (M,R)', 'Northern Blvd (M,R)', '46 St (M,R)', 'Steinway St (M,R)', '36 St (M,R)', 'Queens Plaza (E,M,R)', '5 Av/53 St (E,M)', '7 Av (E,B,D)', 'Jamaica Center-Parsons/Archer (E,J,Z)', 'Sutphin Blvd-Archer Av-JFK Airport (E,J,Z)', 'Union St (R)', 'Jamaica-Van Wyck (E)', '21 St (G)', 'Greenpoint Av (G)', 'Nassau Av (G)', 'Broadway (G)', 'Flushing Av (G)', 'Myrtle-Willoughby Avs (G)', 'Bedford-Nostrand Avs (G)', 'Classon Av (G)', 'Clinton-Washington Avs (G)', 'Fulton St (G)', 'Van Cortlandt Park-242 St (1)', '238 St (1)', '231 St (1)', 'Marble Hill-225 St (1)', '215 St (1)', '207 St (1)', 'Dyckman St (1)', '30 Av (N,W)', 'Prospect Av (R)', '191 St (1)', '181 St (1)', '157 St (1)', '145 St (1)', '137 St-City College (1)', '125 St (1)', '116 St-Columbia University (1)', 'Cathedral Pkwy - 110 St (1)', '103 St (1)', '25 St (R)', '96 St (1,2,3)', '86 St (1)', '79 St (1)', '72 St (1,2,3)', '66 St-Lincoln Center (1)', '50 St (1)', '34 St-Penn Station (1,2,3)', '28 St (1)', '36 St (D,N,R)', '23 St (1)', '18 St (1)', 'Christopher St-Sheridan Sq (1)', 'Houston St (1)', 'Canal St (1)', 'Franklin St (1)', 'Chambers St (1,2,3)', 'WTC Cortlandt (1)', 'Rector St (1)', '45 St (R)', 'Wall St (2,3)', 'Clark St (2,3)', 'Hoyt St (2,3)', 'Nevins St (2,3,4,5)', 'Bergen St (2,3)', '53 St (R)', 'Grand Army Plaza (2,3)', 'Eastern Pkwy-Brooklyn Museum (2,3)', 'Nostrand Av (3)', 'Kingston Av (3)', 'Crown Hts-Utica Av (3,4)', 'Sutter Av-Rutland Rd (3)', 'Saratoga Av (3)', 'Rockaway Av (3)', 'Junius St (3)', '59 St (N,R)', 'Pennsylvania Av (3)', 'Van Siclen Av (3)', 'New Lots Av (3)', 'President St-Medgar Evers College (2,5)', 'Sterling St (2,5)', 'Winthrop St (2,5)', 'Church Av (2,5)', 'Beverly Rd (2,5)', 'Newkirk Av-Little Haiti (2,5)', 'Flatbush Av-Brooklyn College (2,5)', 'Bay Ridge Av (R)', 'Pelham Bay Park (6)', 'Buhre Av (6)', 'Middletown Rd (6)', 'Westchester Sq-E Tremont Av (6)', 'Zerega Av (6)', 'Castle Hill Av (6)', 'Parkchester (6)', 'St Lawrence Av (6)', 'Morrison Av-Soundview (6)', 'Elder Av (6)', '77 St (R)', 'Whitlock Av (6)', 'Hunts Point Av (6)', 'Longwood Av (6)', 'E 149 St (6)', \"E 143 St-St Mary's St (6)\", 'Cypress Av (6)', 'Brook Av (6)', '3 Av-138 St (6)', 'Woodlawn (4)', 'Mosholu Pkwy (4)', '86 St (R)', 'Bedford Park Blvd-Lehman College (4)', 'Kingsbridge Rd (4)', 'Fordham Rd (4)', '183 St (4)', 'Burnside Av (4)', '176 St (4)', 'Mt Eden Av (4)', '170 St (4)', '167 St (4)', 'Bay Ridge-95 St (R)', '138 St-Grand Concourse (4,5)', '125 St (4,5,6)', '116 St (6)', '110 St (6)', '103 St (6)', '96 St (6)', '86 St (4,5,6)', '77 St (6)', '68 St-Hunter College (6)', 'Broadway (N,W)', '33 St (6)', '28 St (6)', '23 St (6)', 'Astor Pl (6)', 'Spring St (6)', '7 Av (B,Q)', 'Wall St (4,5)', 'Bowling Green (4,5)', 'Wakefield-241 St (2)', 'Nereid Av (2,5)', '233 St (2,5)', '225 St (2,5)', 'Prospect Park (B,Q)', '219 St (2,5)', 'Gun Hill Rd (2,5)', 'Burke Av (2,5)', 'Allerton Av (2,5)', 'Pelham Pkwy (2,5)', 'Bronx Park East (2,5)', 'E 180 St (2,5)', 'West Farms Sq-E Tremont Av (2,5)', '174 St (2,5)', 'Freeman St (2,5)', 'Parkside Av (Q)', 'Simpson St (2,5)', 'Intervale Av (2,5)', 'Prospect Av (2,5)', 'Jackson Av (2,5)', '3 Av-149 St (2,5)', 'Harlem-148 St (3)', '145 St (3)', '135 St (2,3)', '125 St (2,3)', 'Church Av (B,Q)', '116 St (2,3)', 'Central Park North - 110 St (2,3)', 'Eastchester-Dyre Av (5)', 'Baychester Av (5)', 'Gun Hill Rd (5)', 'Pelham Pkwy (5)', 'Morris Park (5)', 'Flushing-Main St (7)', 'Mets-Willets Point (7)', '111 St (7)', 'Beverley Rd (Q)', '103 St-Corona Plaza (7)', 'Junction Blvd (7)', '90 St-Elmhurst Av (7)', '82 St-Jackson Hts (7)', '69 St (7)', '61 St-Woodside (7)', '52 St (7)', '46 St-Bliss St (7)', '40 St-Lowery St (7)', 'Cortelyou Rd (Q)', '33 St-Rawson St (7)', 'Queensboro Plaza (7,N,W)', 'Hunters Point Av (7)', 'Vernon Blvd-Jackson Av (7)', 'Newkirk Plaza (B,Q)', '34 St-Hudson Yards (7)', '96 St (Q)', '86 St (Q)', '72 St (Q)', 'Avenue H (Q)', 'Avenue J (Q)', '36 Av (N,W)', 'Avenue M (Q)', 'St George (SIR)', 'Tompkinsville (SIR)', 'Kings Hwy (B,Q)', 'Avenue U (Q)', 'Neck Rd (Q)', 'Sheepshead Bay (B,Q)', 'Brighton Beach (B,Q)', 'Ocean Pkwy (Q)', 'W 8 St-NY Aquarium (F,Q)', 'Coney Island-Stillwell Av (D,F,N,Q)', '9 Av (D)', '39 Av-Dutch Kills (N,W)', 'Fort Hamilton Pkwy (D)', '14 St (F,M,1,2,3)/6 Av (L)', '14 St-Union Sq (L,N,Q,R,W,4,5,6)', '149 St-Grand Concourse (2,4,5)', '161 St-Yankee Stadium (B,D,4)', '168 St (A,C,1)', 'Court Sq (E,G,M,7)', '34 St-Herald Sq (B,D,F,M,N,Q,R,W)', '4 Av (F,G)/9 St (R)', 'Bryant Pk (B,D,F,M)/5 Av (7)', '50 St (D)', 'Grand Central-42 St (S,4,5,6,7)', 'Times Sq-42 St (N,Q,R,W,1,2,3,7)/42 St (A,C,E)', 'Lexington Av-53 St (E,M)/51 St (6)', 'Lexington Av (N,R,W)/59 St (4,5,6)', '59 St-Columbus Circle (A,B,C,D,1)', 'New Utrecht Av (N)/62 St (D)', '74-Broadway (7)/Jackson Hts-Roosevelt Av (E,F,M,R)', 'Atlantic Av-Barclays Ctr (B,D,N,Q,R,2,3,4,5)', '14 St (A,C,E)/8 Av (L)', 'Broadway-Lafayette St (B,D,F,M)/Bleecker St (6)', '55 St (D)', 'Court St (R)/Borough Hall (2,3,4,5)', 'Broadway Junction (A,C,J,L,Z)', 'Brooklyn Bridge-City Hall (4,5,6)/Chambers St (J,Z)', 'Canal St (J,N,Q,R,W,Z,6)', 'Chambers St (A,C)/WTC (E)/Park Pl (2,3)/Cortlandt (R,W)', 'Delancey St (F)/Essex St (J,M,Z)', 'Franklin Av (2,3,4,5)', 'Franklin Av (C)', 'Fulton St (A,C,J,Z,2,3,4,5)', 'Lorimer St (L)/Metropolitan Av (G)', 'Myrtle-Wyckoff Avs (L,M)', 'South Ferry (1)/Whitehall St (R,W)', 'Jay St-MetroTech (A,C,F,R)', '71 St (D)', '79 St (D)', '18 Av (D)', '20 Av (D)', 'Bay Pkwy (D)', '25 Av (D)', 'Bay 50 St (D)', '8 Av (N)', 'Fort Hamilton Pkwy (N)', '18 Av (N)', '20 Av (N)', 'Bay Pkwy (N)', 'Kings Hwy (N)', 'Avenue U (N)', '86 St (N)', '5 Av/59 St (N,R,W)', '121 St (J,Z)', '111 St (J)', '104 St (J,Z)', 'Woodhaven Blvd (J,Z)', '85 St-Forest Pkwy (J)', '75 St-Elderts Ln (J,Z)', 'Cypress Hills (J)', 'Crescent St (J,Z)', 'Norwood Av (J,Z)', 'Cleveland St (J)', '57 St-7 Av (N,Q,R,W)', 'Van Siclen Av (J,Z)', 'Alabama Av (J)', 'Chauncey St (J,Z)', 'Halsey St (J)', 'Gates Av (J,Z)', 'Kosciuszko St (J)', 'Myrtle Av (M,J,Z)', 'Flushing Av (M,J)', 'Lorimer St (M,J)']\n"
     ]
    }
   ],
   "source": [
    "print(stations[\"station_complex\"].to_list())"
   ]
  },
  {
   "cell_type": "code",
   "execution_count": 22,
   "metadata": {},
   "outputs": [
    {
     "data": {
      "text/html": [
       "<div><style>\n",
       ".dataframe > thead > tr,\n",
       ".dataframe > tbody > tr {\n",
       "  text-align: right;\n",
       "  white-space: pre-wrap;\n",
       "}\n",
       "</style>\n",
       "<small>shape: (425, 5)</small><table border=\"1\" class=\"dataframe\"><thead><tr><th>station_complex_id</th><th>station_complex</th><th>borough</th><th>latitude</th><th>longitude</th></tr><tr><td>str</td><td>str</td><td>str</td><td>f64</td><td>f64</td></tr></thead><tbody><tr><td>&quot;1&quot;</td><td>&quot;Astoria-Ditmar…</td><td>&quot;Queens&quot;</td><td>40.775036</td><td>-73.912033</td></tr><tr><td>&quot;10&quot;</td><td>&quot;49 St&quot;</td><td>&quot;Manhattan&quot;</td><td>40.759899</td><td>-73.984138</td></tr><tr><td>&quot;100&quot;</td><td>&quot;Hewes St&quot;</td><td>&quot;Brooklyn&quot;</td><td>40.706871</td><td>-73.95343</td></tr><tr><td>&quot;101&quot;</td><td>&quot;Marcy Av&quot;</td><td>&quot;Brooklyn&quot;</td><td>40.708359</td><td>-73.957756</td></tr><tr><td>&quot;103&quot;</td><td>&quot;Bowery&quot;</td><td>&quot;Manhattan&quot;</td><td>40.72028</td><td>-73.993912</td></tr><tr><td>&hellip;</td><td>&hellip;</td><td>&hellip;</td><td>&hellip;</td><td>&hellip;</td></tr><tr><td>&quot;95&quot;</td><td>&quot;Gates Av&quot;</td><td>&quot;Brooklyn&quot;</td><td>40.689629</td><td>-73.922272</td></tr><tr><td>&quot;96&quot;</td><td>&quot;Kosciuszko St&quot;</td><td>&quot;Brooklyn&quot;</td><td>40.69334</td><td>-73.928818</td></tr><tr><td>&quot;97&quot;</td><td>&quot;Myrtle Av&quot;</td><td>&quot;Brooklyn&quot;</td><td>40.697208</td><td>-73.935654</td></tr><tr><td>&quot;98&quot;</td><td>&quot;Flushing Av&quot;</td><td>&quot;Brooklyn&quot;</td><td>40.70026</td><td>-73.941124</td></tr><tr><td>&quot;99&quot;</td><td>&quot;Lorimer St&quot;</td><td>&quot;Brooklyn&quot;</td><td>40.703869</td><td>-73.947411</td></tr></tbody></table></div>"
      ],
      "text/plain": [
       "shape: (425, 5)\n",
       "┌────────────────────┬──────────────────────┬───────────┬───────────┬────────────┐\n",
       "│ station_complex_id ┆ station_complex      ┆ borough   ┆ latitude  ┆ longitude  │\n",
       "│ ---                ┆ ---                  ┆ ---       ┆ ---       ┆ ---        │\n",
       "│ str                ┆ str                  ┆ str       ┆ f64       ┆ f64        │\n",
       "╞════════════════════╪══════════════════════╪═══════════╪═══════════╪════════════╡\n",
       "│ 1                  ┆ Astoria-Ditmars Blvd ┆ Queens    ┆ 40.775036 ┆ -73.912033 │\n",
       "│ 10                 ┆ 49 St                ┆ Manhattan ┆ 40.759899 ┆ -73.984138 │\n",
       "│ 100                ┆ Hewes St             ┆ Brooklyn  ┆ 40.706871 ┆ -73.95343  │\n",
       "│ 101                ┆ Marcy Av             ┆ Brooklyn  ┆ 40.708359 ┆ -73.957756 │\n",
       "│ 103                ┆ Bowery               ┆ Manhattan ┆ 40.72028  ┆ -73.993912 │\n",
       "│ …                  ┆ …                    ┆ …         ┆ …         ┆ …          │\n",
       "│ 95                 ┆ Gates Av             ┆ Brooklyn  ┆ 40.689629 ┆ -73.922272 │\n",
       "│ 96                 ┆ Kosciuszko St        ┆ Brooklyn  ┆ 40.69334  ┆ -73.928818 │\n",
       "│ 97                 ┆ Myrtle Av            ┆ Brooklyn  ┆ 40.697208 ┆ -73.935654 │\n",
       "│ 98                 ┆ Flushing Av          ┆ Brooklyn  ┆ 40.70026  ┆ -73.941124 │\n",
       "│ 99                 ┆ Lorimer St           ┆ Brooklyn  ┆ 40.703869 ┆ -73.947411 │\n",
       "└────────────────────┴──────────────────────┴───────────┴───────────┴────────────┘"
      ]
     },
     "execution_count": 22,
     "metadata": {},
     "output_type": "execute_result"
    }
   ],
   "source": [
    "stations_clean = stations.with_columns(pl.col(\"station_complex\").str.replace_all(r\"\\([^)]*\\)\", \"\").str.strip_chars())\n",
    "stations_clean"
   ]
  },
  {
   "cell_type": "code",
   "execution_count": 13,
   "metadata": {},
   "outputs": [
    {
     "data": {
      "text/html": [
       "<div><style>\n",
       ".dataframe > thead > tr,\n",
       ".dataframe > tbody > tr {\n",
       "  text-align: right;\n",
       "  white-space: pre-wrap;\n",
       "}\n",
       "</style>\n",
       "<small>shape: (24, 1)</small><table border=\"1\" class=\"dataframe\"><thead><tr><th>route_name</th></tr><tr><td>str</td></tr></thead><tbody><tr><td>&quot;1&quot;</td></tr><tr><td>&quot;2&quot;</td></tr><tr><td>&quot;3&quot;</td></tr><tr><td>&quot;4&quot;</td></tr><tr><td>&quot;5&quot;</td></tr><tr><td>&hellip;</td></tr><tr><td>&quot;R&quot;</td></tr><tr><td>&quot;S&quot;</td></tr><tr><td>&quot;SIR&quot;</td></tr><tr><td>&quot;W&quot;</td></tr><tr><td>&quot;Z&quot;</td></tr></tbody></table></div>"
      ],
      "text/plain": [
       "shape: (24, 1)\n",
       "┌────────────┐\n",
       "│ route_name │\n",
       "│ ---        │\n",
       "│ str        │\n",
       "╞════════════╡\n",
       "│ 1          │\n",
       "│ 2          │\n",
       "│ 3          │\n",
       "│ 4          │\n",
       "│ 5          │\n",
       "│ …          │\n",
       "│ R          │\n",
       "│ S          │\n",
       "│ SIR        │\n",
       "│ W          │\n",
       "│ Z          │\n",
       "└────────────┘"
      ]
     },
     "execution_count": 13,
     "metadata": {},
     "output_type": "execute_result"
    }
   ],
   "source": [
    "#Routes table\n",
    "station_list = stations[\"station_complex\"].to_list()\n",
    "regex_pattern = r\"\\(([^)]+)\\)\"\n",
    "\n",
    "unique_train_lines = set()\n",
    "\n",
    "for station in station_list:\n",
    "    matches = re.findall(regex_pattern, station)\n",
    "    if matches:\n",
    "        for line in matches[0].split(','):\n",
    "            unique_train_lines.add(line.strip())\n",
    "\n",
    "\n",
    "routes = pl.DataFrame({\n",
    "    \"route_name\": sorted(list(unique_train_lines))\n",
    "})\n",
    "routes"
   ]
  },
  {
   "cell_type": "code",
   "execution_count": 13,
   "metadata": {},
   "outputs": [
    {
     "data": {
      "text/html": [
       "<div><style>\n",
       ".dataframe > thead > tr,\n",
       ".dataframe > tbody > tr {\n",
       "  text-align: right;\n",
       "  white-space: pre-wrap;\n",
       "}\n",
       "</style>\n",
       "<small>shape: (737, 3)</small><table border=\"1\" class=\"dataframe\"><thead><tr><th>station_complex_id</th><th>station_complex_unclean</th><th>route_name</th></tr><tr><td>str</td><td>str</td><td>str</td></tr></thead><tbody><tr><td>&quot;1&quot;</td><td>&quot;Astoria-Ditmar…</td><td>&quot;W&quot;</td></tr><tr><td>&quot;1&quot;</td><td>&quot;Astoria-Ditmar…</td><td>&quot;N&quot;</td></tr><tr><td>&quot;10&quot;</td><td>&quot;49 St&quot;</td><td>&quot;W&quot;</td></tr><tr><td>&quot;10&quot;</td><td>&quot;49 St&quot;</td><td>&quot;N&quot;</td></tr><tr><td>&quot;10&quot;</td><td>&quot;49 St&quot;</td><td>&quot;R&quot;</td></tr><tr><td>&hellip;</td><td>&hellip;</td><td>&hellip;</td></tr><tr><td>&quot;97&quot;</td><td>&quot;Myrtle Av&quot;</td><td>&quot;Z&quot;</td></tr><tr><td>&quot;98&quot;</td><td>&quot;Flushing Av&quot;</td><td>&quot;M&quot;</td></tr><tr><td>&quot;98&quot;</td><td>&quot;Flushing Av&quot;</td><td>&quot;J&quot;</td></tr><tr><td>&quot;99&quot;</td><td>&quot;Lorimer St&quot;</td><td>&quot;J&quot;</td></tr><tr><td>&quot;99&quot;</td><td>&quot;Lorimer St&quot;</td><td>&quot;M&quot;</td></tr></tbody></table></div>"
      ],
      "text/plain": [
       "shape: (737, 3)\n",
       "┌────────────────────┬─────────────────────────┬────────────┐\n",
       "│ station_complex_id ┆ station_complex_unclean ┆ route_name │\n",
       "│ ---                ┆ ---                     ┆ ---        │\n",
       "│ str                ┆ str                     ┆ str        │\n",
       "╞════════════════════╪═════════════════════════╪════════════╡\n",
       "│ 1                  ┆ Astoria-Ditmars Blvd    ┆ W          │\n",
       "│ 1                  ┆ Astoria-Ditmars Blvd    ┆ N          │\n",
       "│ 10                 ┆ 49 St                   ┆ W          │\n",
       "│ 10                 ┆ 49 St                   ┆ N          │\n",
       "│ 10                 ┆ 49 St                   ┆ R          │\n",
       "│ …                  ┆ …                       ┆ …          │\n",
       "│ 97                 ┆ Myrtle Av               ┆ Z          │\n",
       "│ 98                 ┆ Flushing Av             ┆ M          │\n",
       "│ 98                 ┆ Flushing Av             ┆ J          │\n",
       "│ 99                 ┆ Lorimer St              ┆ J          │\n",
       "│ 99                 ┆ Lorimer St              ┆ M          │\n",
       "└────────────────────┴─────────────────────────┴────────────┘"
      ]
     },
     "execution_count": 13,
     "metadata": {},
     "output_type": "execute_result"
    }
   ],
   "source": [
    "#Station_routes table\n",
    "station_routes = stations.with_columns(\n",
    "    pl.col(\"station_complex\")\n",
    "    .str.extract_all(r\"\\((.*?)\\)\")\n",
    "    .map_elements(lambda groups: ','.join(groups), return_dtype=str)\n",
    "    .str.replace_all(r\"\\(\", \"\")\n",
    "    .str.replace_all(r\"\\)\", \"\")\n",
    "    .str.split(\",\")\n",
    "    .alias(\"route_list\")\n",
    "    )\n",
    "\n",
    "# Step 3: Explode the list into separate rows\n",
    "stations_exploded = station_routes.explode(\"route_list\")\n",
    "\n",
    "# Step 4: Select and rename columns to fit the SQL schema, remove duplicates\n",
    "station_routes = stations_exploded.select([\n",
    "    pl.col(\"station_complex_id\"),\n",
    "    pl.col(\"station_complex\")\n",
    "    .str.replace_all(r\"\\([^)]*\\)\", \"\").str.strip_chars().alias(\"station_complex_unclean\"),\n",
    "    pl.col(\"route_list\").alias(\"route_name\")\n",
    "]).unique()\n",
    "\n",
    "station_routes = station_routes.sort(\"station_complex_id\")\n",
    "station_routes"
   ]
  },
  {
   "cell_type": "code",
   "execution_count": null,
   "metadata": {},
   "outputs": [],
   "source": []
  }
 ],
 "metadata": {
  "kernelspec": {
   "display_name": "Python 3",
   "language": "python",
   "name": "python3"
  },
  "language_info": {
   "codemirror_mode": {
    "name": "ipython",
    "version": 3
   },
   "file_extension": ".py",
   "mimetype": "text/x-python",
   "name": "python",
   "nbconvert_exporter": "python",
   "pygments_lexer": "ipython3",
   "version": "3.11.6"
  },
  "orig_nbformat": 4
 },
 "nbformat": 4,
 "nbformat_minor": 2
}
