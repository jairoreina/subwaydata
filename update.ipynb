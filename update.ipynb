{
 "cells": [
  {
   "cell_type": "code",
   "execution_count": 1,
   "metadata": {},
   "outputs": [],
   "source": [
    "import requests\n",
    "from datetime import datetime, timedelta\n",
    "import polars as pl\n",
    "import re"
   ]
  },
  {
   "cell_type": "code",
   "execution_count": 17,
   "metadata": {},
   "outputs": [],
   "source": [
    "def clean_column_name(name):\n",
    "    return re.sub(r\"[ \\-&]\", \"_\", name).replace(\"___\", \"_\").replace(\"__\",\"_\").lower()"
   ]
  },
  {
   "cell_type": "code",
   "execution_count": 18,
   "metadata": {},
   "outputs": [],
   "source": [
    "def get_data(ses):\n",
    "    url = \"https://data.ny.gov/resource/wujg-7c2s.csv\"\n",
    "\n",
    "    params = {\n",
    "        \"$limit\":1,\n",
    "        \"$order\":\"transit_timestamp DESC\"\n",
    "    }\n",
    "    response = ses.get(url, params=params)\n",
    "\n",
    "    last_update_string = pl.read_csv(response.content)[\"transit_timestamp\"][0]\n",
    "    last_update_datetime = datetime.fromisoformat(last_update_string)\n",
    "\n",
    "    two_weeks_prior = last_update_datetime - timedelta(days=14)\n",
    "    rounded_two_weeks = datetime(year=two_weeks_prior.year, month=two_weeks_prior.month, day=two_weeks_prior.day)\n",
    "\n",
    "    print(f\"Getting data from {rounded_two_weeks.isoformat()} and {last_update_datetime.isoformat()}...\")\n",
    "    params = {\n",
    "        \"$where\": f\"transit_timestamp between'{rounded_two_weeks.isoformat()}' and '{last_update_datetime.isoformat()}'\",\n",
    "        \"$limit\": 1_500_000\n",
    "    }\n",
    "    response = ses.get(url, params=params)\n",
    "    \n",
    "    columns_to_keep = [\"transit_timestamp\", \"station_complex_id\", \"fare_class_category\", \"ridership\"]\n",
    "    df = pl.read_csv(response.content, infer_schema_length=0, columns=columns_to_keep)\n",
    "    return df"
   ]
  },
  {
   "cell_type": "code",
   "execution_count": 19,
   "metadata": {},
   "outputs": [],
   "source": [
    "def format_df(df):\n",
    "    ridership_wide = df.with_columns(\n",
    "        [pl.col(\"transit_timestamp\").map_elements(lambda x: datetime.fromisoformat(x)),\n",
    "        pl.col(\"ridership\").cast(pl.Float64).floor().cast(pl.Int16)]\n",
    "    ).pivot(\n",
    "        index=[\"transit_timestamp\", \"station_complex_id\"],\n",
    "        columns=\"fare_class_category\",\n",
    "        values=\"ridership\",\n",
    "        aggregate_function=\"sum\",\n",
    "        sort_columns=True\n",
    "    ).sort(\n",
    "        [\"transit_timestamp\", \"station_complex_id\"], descending=[False, False]\n",
    "    ).fill_null(0)\n",
    "\n",
    "    ridership_columns = [col for col in ridership_wide.columns if \"Metrocard\" in col or \"OMNY\" in col]\n",
    "    ridership = ridership_wide.with_columns(\n",
    "        total_ridership=pl.sum_horizontal(col for col in ridership_columns)\n",
    "    )\n",
    "\n",
    "    rename_mapping = {col: clean_column_name(col) for col in ridership.columns}\n",
    "    ridership = ridership.rename(rename_mapping)\n",
    "    return ridership"
   ]
  },
  {
   "cell_type": "code",
   "execution_count": 20,
   "metadata": {},
   "outputs": [
    {
     "name": "stdout",
     "output_type": "stream",
     "text": [
      "Getting data from 2024-03-09T00:00:00 and 2024-03-23T23:00:00...\n"
     ]
    },
    {
     "data": {
      "text/html": [
       "<div><style>\n",
       ".dataframe > thead > tr > th,\n",
       ".dataframe > tbody > tr > td {\n",
       "  text-align: right;\n",
       "  white-space: pre-wrap;\n",
       "}\n",
       "</style>\n",
       "<small>shape: (150_788, 13)</small><table border=\"1\" class=\"dataframe\"><thead><tr><th>transit_timestamp</th><th>station_complex_id</th><th>metrocard_fair_fare</th><th>metrocard_full_fare</th><th>metrocard_other</th><th>metrocard_seniors_disability</th><th>metrocard_students</th><th>metrocard_unlimited_30_day</th><th>metrocard_unlimited_7_day</th><th>omny_full_fare</th><th>omny_other</th><th>omny_seniors_disability</th><th>total_ridership</th></tr><tr><td>datetime[μs]</td><td>str</td><td>i64</td><td>i64</td><td>i64</td><td>i64</td><td>i64</td><td>i64</td><td>i64</td><td>i64</td><td>i64</td><td>i64</td><td>i64</td></tr></thead><tbody><tr><td>2024-03-09 00:00:00</td><td>&quot;1&quot;</td><td>1</td><td>9</td><td>9</td><td>1</td><td>0</td><td>4</td><td>11</td><td>25</td><td>0</td><td>0</td><td>60</td></tr><tr><td>2024-03-09 00:00:00</td><td>&quot;10&quot;</td><td>12</td><td>50</td><td>15</td><td>6</td><td>0</td><td>31</td><td>42</td><td>264</td><td>0</td><td>1</td><td>421</td></tr><tr><td>2024-03-09 00:00:00</td><td>&quot;100&quot;</td><td>1</td><td>2</td><td>0</td><td>1</td><td>0</td><td>0</td><td>2</td><td>18</td><td>0</td><td>0</td><td>24</td></tr><tr><td>2024-03-09 00:00:00</td><td>&quot;101&quot;</td><td>0</td><td>10</td><td>4</td><td>0</td><td>0</td><td>9</td><td>13</td><td>78</td><td>0</td><td>0</td><td>114</td></tr><tr><td>2024-03-09 00:00:00</td><td>&quot;103&quot;</td><td>2</td><td>14</td><td>5</td><td>0</td><td>0</td><td>13</td><td>12</td><td>100</td><td>0</td><td>0</td><td>146</td></tr><tr><td>2024-03-09 00:00:00</td><td>&quot;107&quot;</td><td>4</td><td>4</td><td>0</td><td>4</td><td>0</td><td>6</td><td>11</td><td>22</td><td>0</td><td>1</td><td>52</td></tr><tr><td>2024-03-09 00:00:00</td><td>&quot;108&quot;</td><td>1</td><td>0</td><td>3</td><td>0</td><td>0</td><td>1</td><td>1</td><td>1</td><td>0</td><td>0</td><td>7</td></tr><tr><td>2024-03-09 00:00:00</td><td>&quot;109&quot;</td><td>0</td><td>1</td><td>4</td><td>0</td><td>0</td><td>2</td><td>2</td><td>4</td><td>0</td><td>0</td><td>13</td></tr><tr><td>2024-03-09 00:00:00</td><td>&quot;110&quot;</td><td>0</td><td>0</td><td>0</td><td>0</td><td>0</td><td>0</td><td>0</td><td>10</td><td>0</td><td>0</td><td>10</td></tr><tr><td>2024-03-09 00:00:00</td><td>&quot;111&quot;</td><td>2</td><td>0</td><td>0</td><td>0</td><td>0</td><td>1</td><td>0</td><td>3</td><td>0</td><td>0</td><td>6</td></tr><tr><td>2024-03-09 00:00:00</td><td>&quot;113&quot;</td><td>0</td><td>1</td><td>1</td><td>0</td><td>0</td><td>0</td><td>0</td><td>5</td><td>0</td><td>0</td><td>7</td></tr><tr><td>2024-03-09 00:00:00</td><td>&quot;114&quot;</td><td>0</td><td>5</td><td>2</td><td>0</td><td>0</td><td>1</td><td>1</td><td>23</td><td>0</td><td>0</td><td>32</td></tr><tr><td>&hellip;</td><td>&hellip;</td><td>&hellip;</td><td>&hellip;</td><td>&hellip;</td><td>&hellip;</td><td>&hellip;</td><td>&hellip;</td><td>&hellip;</td><td>&hellip;</td><td>&hellip;</td><td>&hellip;</td><td>&hellip;</td></tr><tr><td>2024-03-23 23:00:00</td><td>&quot;9&quot;</td><td>17</td><td>78</td><td>15</td><td>11</td><td>0</td><td>60</td><td>88</td><td>339</td><td>0</td><td>2</td><td>610</td></tr><tr><td>2024-03-23 23:00:00</td><td>&quot;90&quot;</td><td>3</td><td>4</td><td>1</td><td>0</td><td>0</td><td>0</td><td>0</td><td>5</td><td>0</td><td>0</td><td>13</td></tr><tr><td>2024-03-23 23:00:00</td><td>&quot;91&quot;</td><td>0</td><td>2</td><td>0</td><td>0</td><td>0</td><td>0</td><td>0</td><td>2</td><td>0</td><td>0</td><td>4</td></tr><tr><td>2024-03-23 23:00:00</td><td>&quot;93&quot;</td><td>0</td><td>1</td><td>0</td><td>0</td><td>0</td><td>1</td><td>5</td><td>11</td><td>0</td><td>1</td><td>19</td></tr><tr><td>2024-03-23 23:00:00</td><td>&quot;94&quot;</td><td>1</td><td>1</td><td>0</td><td>0</td><td>0</td><td>2</td><td>1</td><td>17</td><td>0</td><td>0</td><td>22</td></tr><tr><td>2024-03-23 23:00:00</td><td>&quot;95&quot;</td><td>3</td><td>6</td><td>3</td><td>0</td><td>0</td><td>3</td><td>2</td><td>27</td><td>0</td><td>0</td><td>44</td></tr><tr><td>2024-03-23 23:00:00</td><td>&quot;96&quot;</td><td>2</td><td>6</td><td>1</td><td>0</td><td>0</td><td>1</td><td>3</td><td>31</td><td>0</td><td>0</td><td>44</td></tr><tr><td>2024-03-23 23:00:00</td><td>&quot;97&quot;</td><td>2</td><td>11</td><td>4</td><td>1</td><td>0</td><td>13</td><td>9</td><td>97</td><td>0</td><td>0</td><td>137</td></tr><tr><td>2024-03-23 23:00:00</td><td>&quot;98&quot;</td><td>2</td><td>8</td><td>6</td><td>0</td><td>0</td><td>5</td><td>10</td><td>56</td><td>0</td><td>0</td><td>87</td></tr><tr><td>2024-03-23 23:00:00</td><td>&quot;99&quot;</td><td>2</td><td>5</td><td>0</td><td>0</td><td>0</td><td>5</td><td>5</td><td>34</td><td>0</td><td>0</td><td>51</td></tr><tr><td>2024-03-23 23:00:00</td><td>&quot;TRAM1&quot;</td><td>4</td><td>11</td><td>5</td><td>5</td><td>0</td><td>15</td><td>16</td><td>72</td><td>0</td><td>0</td><td>128</td></tr><tr><td>2024-03-23 23:00:00</td><td>&quot;TRAM2&quot;</td><td>0</td><td>11</td><td>1</td><td>2</td><td>0</td><td>4</td><td>13</td><td>51</td><td>0</td><td>0</td><td>82</td></tr></tbody></table></div>"
      ],
      "text/plain": [
       "shape: (150_788, 13)\n",
       "┌───────────┬───────────┬───────────┬───────────┬───┬───────────┬───────────┬───────────┬──────────┐\n",
       "│ transit_t ┆ station_c ┆ metrocard ┆ metrocard ┆ … ┆ omny_full ┆ omny_othe ┆ omny_seni ┆ total_ri │\n",
       "│ imestamp  ┆ omplex_id ┆ _fair_far ┆ _full_far ┆   ┆ _fare     ┆ r         ┆ ors_disab ┆ dership  │\n",
       "│ ---       ┆ ---       ┆ e         ┆ e         ┆   ┆ ---       ┆ ---       ┆ ility     ┆ ---      │\n",
       "│ datetime[ ┆ str       ┆ ---       ┆ ---       ┆   ┆ i64       ┆ i64       ┆ ---       ┆ i64      │\n",
       "│ μs]       ┆           ┆ i64       ┆ i64       ┆   ┆           ┆           ┆ i64       ┆          │\n",
       "╞═══════════╪═══════════╪═══════════╪═══════════╪═══╪═══════════╪═══════════╪═══════════╪══════════╡\n",
       "│ 2024-03-0 ┆ 1         ┆ 1         ┆ 9         ┆ … ┆ 25        ┆ 0         ┆ 0         ┆ 60       │\n",
       "│ 9         ┆           ┆           ┆           ┆   ┆           ┆           ┆           ┆          │\n",
       "│ 00:00:00  ┆           ┆           ┆           ┆   ┆           ┆           ┆           ┆          │\n",
       "│ 2024-03-0 ┆ 10        ┆ 12        ┆ 50        ┆ … ┆ 264       ┆ 0         ┆ 1         ┆ 421      │\n",
       "│ 9         ┆           ┆           ┆           ┆   ┆           ┆           ┆           ┆          │\n",
       "│ 00:00:00  ┆           ┆           ┆           ┆   ┆           ┆           ┆           ┆          │\n",
       "│ 2024-03-0 ┆ 100       ┆ 1         ┆ 2         ┆ … ┆ 18        ┆ 0         ┆ 0         ┆ 24       │\n",
       "│ 9         ┆           ┆           ┆           ┆   ┆           ┆           ┆           ┆          │\n",
       "│ 00:00:00  ┆           ┆           ┆           ┆   ┆           ┆           ┆           ┆          │\n",
       "│ 2024-03-0 ┆ 101       ┆ 0         ┆ 10        ┆ … ┆ 78        ┆ 0         ┆ 0         ┆ 114      │\n",
       "│ 9         ┆           ┆           ┆           ┆   ┆           ┆           ┆           ┆          │\n",
       "│ 00:00:00  ┆           ┆           ┆           ┆   ┆           ┆           ┆           ┆          │\n",
       "│ …         ┆ …         ┆ …         ┆ …         ┆ … ┆ …         ┆ …         ┆ …         ┆ …        │\n",
       "│ 2024-03-2 ┆ 98        ┆ 2         ┆ 8         ┆ … ┆ 56        ┆ 0         ┆ 0         ┆ 87       │\n",
       "│ 3         ┆           ┆           ┆           ┆   ┆           ┆           ┆           ┆          │\n",
       "│ 23:00:00  ┆           ┆           ┆           ┆   ┆           ┆           ┆           ┆          │\n",
       "│ 2024-03-2 ┆ 99        ┆ 2         ┆ 5         ┆ … ┆ 34        ┆ 0         ┆ 0         ┆ 51       │\n",
       "│ 3         ┆           ┆           ┆           ┆   ┆           ┆           ┆           ┆          │\n",
       "│ 23:00:00  ┆           ┆           ┆           ┆   ┆           ┆           ┆           ┆          │\n",
       "│ 2024-03-2 ┆ TRAM1     ┆ 4         ┆ 11        ┆ … ┆ 72        ┆ 0         ┆ 0         ┆ 128      │\n",
       "│ 3         ┆           ┆           ┆           ┆   ┆           ┆           ┆           ┆          │\n",
       "│ 23:00:00  ┆           ┆           ┆           ┆   ┆           ┆           ┆           ┆          │\n",
       "│ 2024-03-2 ┆ TRAM2     ┆ 0         ┆ 11        ┆ … ┆ 51        ┆ 0         ┆ 0         ┆ 82       │\n",
       "│ 3         ┆           ┆           ┆           ┆   ┆           ┆           ┆           ┆          │\n",
       "│ 23:00:00  ┆           ┆           ┆           ┆   ┆           ┆           ┆           ┆          │\n",
       "└───────────┴───────────┴───────────┴───────────┴───┴───────────┴───────────┴───────────┴──────────┘"
      ]
     },
     "execution_count": 20,
     "metadata": {},
     "output_type": "execute_result"
    }
   ],
   "source": [
    "with requests.session() as ses:\n",
    "    df = get_data(ses)\n",
    "ridership = format_df(df)\n",
    "ridership"
   ]
  }
 ],
 "metadata": {
  "kernelspec": {
   "display_name": "mta",
   "language": "python",
   "name": "python3"
  },
  "language_info": {
   "codemirror_mode": {
    "name": "ipython",
    "version": 3
   },
   "file_extension": ".py",
   "mimetype": "text/x-python",
   "name": "python",
   "nbconvert_exporter": "python",
   "pygments_lexer": "ipython3",
   "version": "3.11.6"
  }
 },
 "nbformat": 4,
 "nbformat_minor": 2
}
