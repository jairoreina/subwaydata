{
 "cells": [
  {
   "cell_type": "code",
   "execution_count": 3,
   "metadata": {},
   "outputs": [],
   "source": [
    "import requests\n",
    "from datetime import datetime, timedelta\n",
    "import polars as pl\n",
    "import re"
   ]
  },
  {
   "cell_type": "code",
   "execution_count": 4,
   "metadata": {},
   "outputs": [],
   "source": [
    "def clean_column_name(name):\n",
    "    return re.sub(r\"[ \\-&]\", \"_\", name).replace(\"___\", \"_\").replace(\"__\",\"_\").lower()"
   ]
  },
  {
   "cell_type": "code",
   "execution_count": 5,
   "metadata": {},
   "outputs": [],
   "source": [
    "def get_data(ses):\n",
    "    url = \"https://data.ny.gov/resource/wujg-7c2s.csv\"\n",
    "\n",
    "    params = {\n",
    "        \"$limit\":1,\n",
    "        \"$order\":\"transit_timestamp DESC\"\n",
    "    }\n",
    "    response = ses.get(url, params=params)\n",
    "\n",
    "    last_update_string = pl.read_csv(response.content)[\"transit_timestamp\"][0]\n",
    "    last_update_datetime = datetime.fromisoformat(last_update_string)\n",
    "\n",
    "    days_of_history = 30\n",
    "    two_weeks_prior = last_update_datetime - timedelta(days=days_of_history)\n",
    "    rounded_two_weeks = datetime(year=two_weeks_prior.year, month=two_weeks_prior.month, day=two_weeks_prior.day)\n",
    "\n",
    "    print(f\"Getting data from {rounded_two_weeks.isoformat()} and {last_update_datetime.isoformat()}...\")\n",
    "    params = {\n",
    "        \"$where\": f\"transit_timestamp between'{rounded_two_weeks.isoformat()}' and '{last_update_datetime.isoformat()}'\",\n",
    "        \"$limit\": days_of_history * 100_000\n",
    "    }\n",
    "    response = ses.get(url, params=params)\n",
    "    \n",
    "    columns_to_keep = [\"transit_timestamp\", \"station_complex_id\", \"fare_class_category\", \"ridership\"]\n",
    "    df = pl.read_csv(response.content, infer_schema_length=0, columns=columns_to_keep)\n",
    "    return df"
   ]
  },
  {
   "cell_type": "code",
   "execution_count": 8,
   "metadata": {},
   "outputs": [],
   "source": [
    "def format_df(df):\n",
    "    ridership_wide = df.with_columns(\n",
    "        [pl.col(\"transit_timestamp\").map_elements(lambda x: datetime.fromisoformat(x), return_dtype=pl.Datetime),\n",
    "        pl.col(\"ridership\").cast(pl.Float64).floor().cast(pl.Int16)]\n",
    "    ).pivot(\n",
    "        index=[\"transit_timestamp\", \"station_complex_id\"],\n",
    "        columns=\"fare_class_category\",\n",
    "        values=\"ridership\",\n",
    "        aggregate_function=\"sum\",\n",
    "        sort_columns=True\n",
    "    ).sort(\n",
    "        [\"transit_timestamp\", \"station_complex_id\"], descending=[False, False]\n",
    "    ).fill_null(0)\n",
    "\n",
    "    ridership_columns = [col for col in ridership_wide.columns if \"Metrocard\" in col or \"OMNY\" in col]\n",
    "    ridership = ridership_wide.with_columns(\n",
    "        total_ridership=pl.sum_horizontal(col for col in ridership_columns)\n",
    "    )\n",
    "\n",
    "    rename_mapping = {col: clean_column_name(col) for col in ridership.columns}\n",
    "    ridership = ridership.rename(rename_mapping)\n",
    "    \n",
    "    #Since we got rid of the shuttle and TRAM lines, we filter them out here too.\n",
    "    ridership = ridership.filter(~pl.col(\"station_complex_id\").str.contains(\"TRAM\")).filter(~pl.col(\"station_complex_id\").str.contains(\"141\"))\n",
    "    return ridership"
   ]
  },
  {
   "cell_type": "code",
   "execution_count": 9,
   "metadata": {},
   "outputs": [
    {
     "name": "stdout",
     "output_type": "stream",
     "text": [
      "Getting data from 2024-03-12T00:00:00 and 2024-04-11T23:00:00...\n"
     ]
    },
    {
     "data": {
      "text/html": [
       "<div><style>\n",
       ".dataframe > thead > tr,\n",
       ".dataframe > tbody > tr {\n",
       "  text-align: right;\n",
       "  white-space: pre-wrap;\n",
       "}\n",
       "</style>\n",
       "<small>shape: (311_394, 13)</small><table border=\"1\" class=\"dataframe\"><thead><tr><th>transit_timestamp</th><th>station_complex_id</th><th>metrocard_fair_fare</th><th>metrocard_full_fare</th><th>metrocard_other</th><th>metrocard_seniors_disability</th><th>metrocard_students</th><th>metrocard_unlimited_30_day</th><th>metrocard_unlimited_7_day</th><th>omny_full_fare</th><th>omny_other</th><th>omny_seniors_disability</th><th>total_ridership</th></tr><tr><td>datetime[μs]</td><td>str</td><td>i64</td><td>i64</td><td>i64</td><td>i64</td><td>i64</td><td>i64</td><td>i64</td><td>i64</td><td>i64</td><td>i64</td><td>i64</td></tr></thead><tbody><tr><td>2024-03-12 00:00:00</td><td>&quot;1&quot;</td><td>1</td><td>4</td><td>2</td><td>0</td><td>0</td><td>4</td><td>6</td><td>17</td><td>0</td><td>0</td><td>34</td></tr><tr><td>2024-03-12 00:00:00</td><td>&quot;10&quot;</td><td>8</td><td>25</td><td>5</td><td>5</td><td>0</td><td>29</td><td>35</td><td>116</td><td>0</td><td>0</td><td>223</td></tr><tr><td>2024-03-12 00:00:00</td><td>&quot;100&quot;</td><td>1</td><td>3</td><td>0</td><td>0</td><td>0</td><td>1</td><td>4</td><td>5</td><td>0</td><td>0</td><td>14</td></tr><tr><td>2024-03-12 00:00:00</td><td>&quot;101&quot;</td><td>2</td><td>6</td><td>0</td><td>0</td><td>0</td><td>7</td><td>7</td><td>21</td><td>0</td><td>0</td><td>43</td></tr><tr><td>2024-03-12 00:00:00</td><td>&quot;103&quot;</td><td>0</td><td>7</td><td>2</td><td>0</td><td>0</td><td>1</td><td>2</td><td>35</td><td>0</td><td>0</td><td>47</td></tr><tr><td>&hellip;</td><td>&hellip;</td><td>&hellip;</td><td>&hellip;</td><td>&hellip;</td><td>&hellip;</td><td>&hellip;</td><td>&hellip;</td><td>&hellip;</td><td>&hellip;</td><td>&hellip;</td><td>&hellip;</td><td>&hellip;</td></tr><tr><td>2024-04-11 23:00:00</td><td>&quot;95&quot;</td><td>1</td><td>2</td><td>2</td><td>0</td><td>0</td><td>3</td><td>3</td><td>29</td><td>0</td><td>0</td><td>40</td></tr><tr><td>2024-04-11 23:00:00</td><td>&quot;96&quot;</td><td>0</td><td>3</td><td>1</td><td>0</td><td>0</td><td>2</td><td>2</td><td>26</td><td>0</td><td>0</td><td>34</td></tr><tr><td>2024-04-11 23:00:00</td><td>&quot;97&quot;</td><td>4</td><td>17</td><td>4</td><td>1</td><td>0</td><td>10</td><td>11</td><td>76</td><td>0</td><td>0</td><td>123</td></tr><tr><td>2024-04-11 23:00:00</td><td>&quot;98&quot;</td><td>4</td><td>2</td><td>4</td><td>0</td><td>0</td><td>3</td><td>10</td><td>18</td><td>0</td><td>0</td><td>41</td></tr><tr><td>2024-04-11 23:00:00</td><td>&quot;99&quot;</td><td>2</td><td>1</td><td>1</td><td>0</td><td>0</td><td>3</td><td>8</td><td>17</td><td>0</td><td>0</td><td>32</td></tr></tbody></table></div>"
      ],
      "text/plain": [
       "shape: (311_394, 13)\n",
       "┌───────────┬───────────┬───────────┬───────────┬───┬───────────┬───────────┬───────────┬──────────┐\n",
       "│ transit_t ┆ station_c ┆ metrocard ┆ metrocard ┆ … ┆ omny_full ┆ omny_othe ┆ omny_seni ┆ total_ri │\n",
       "│ imestamp  ┆ omplex_id ┆ _fair_far ┆ _full_far ┆   ┆ _fare     ┆ r         ┆ ors_disab ┆ dership  │\n",
       "│ ---       ┆ ---       ┆ e         ┆ e         ┆   ┆ ---       ┆ ---       ┆ ility     ┆ ---      │\n",
       "│ datetime[ ┆ str       ┆ ---       ┆ ---       ┆   ┆ i64       ┆ i64       ┆ ---       ┆ i64      │\n",
       "│ μs]       ┆           ┆ i64       ┆ i64       ┆   ┆           ┆           ┆ i64       ┆          │\n",
       "╞═══════════╪═══════════╪═══════════╪═══════════╪═══╪═══════════╪═══════════╪═══════════╪══════════╡\n",
       "│ 2024-03-1 ┆ 1         ┆ 1         ┆ 4         ┆ … ┆ 17        ┆ 0         ┆ 0         ┆ 34       │\n",
       "│ 2         ┆           ┆           ┆           ┆   ┆           ┆           ┆           ┆          │\n",
       "│ 00:00:00  ┆           ┆           ┆           ┆   ┆           ┆           ┆           ┆          │\n",
       "│ 2024-03-1 ┆ 10        ┆ 8         ┆ 25        ┆ … ┆ 116       ┆ 0         ┆ 0         ┆ 223      │\n",
       "│ 2         ┆           ┆           ┆           ┆   ┆           ┆           ┆           ┆          │\n",
       "│ 00:00:00  ┆           ┆           ┆           ┆   ┆           ┆           ┆           ┆          │\n",
       "│ 2024-03-1 ┆ 100       ┆ 1         ┆ 3         ┆ … ┆ 5         ┆ 0         ┆ 0         ┆ 14       │\n",
       "│ 2         ┆           ┆           ┆           ┆   ┆           ┆           ┆           ┆          │\n",
       "│ 00:00:00  ┆           ┆           ┆           ┆   ┆           ┆           ┆           ┆          │\n",
       "│ 2024-03-1 ┆ 101       ┆ 2         ┆ 6         ┆ … ┆ 21        ┆ 0         ┆ 0         ┆ 43       │\n",
       "│ 2         ┆           ┆           ┆           ┆   ┆           ┆           ┆           ┆          │\n",
       "│ 00:00:00  ┆           ┆           ┆           ┆   ┆           ┆           ┆           ┆          │\n",
       "│ 2024-03-1 ┆ 103       ┆ 0         ┆ 7         ┆ … ┆ 35        ┆ 0         ┆ 0         ┆ 47       │\n",
       "│ 2         ┆           ┆           ┆           ┆   ┆           ┆           ┆           ┆          │\n",
       "│ 00:00:00  ┆           ┆           ┆           ┆   ┆           ┆           ┆           ┆          │\n",
       "│ …         ┆ …         ┆ …         ┆ …         ┆ … ┆ …         ┆ …         ┆ …         ┆ …        │\n",
       "│ 2024-04-1 ┆ 95        ┆ 1         ┆ 2         ┆ … ┆ 29        ┆ 0         ┆ 0         ┆ 40       │\n",
       "│ 1         ┆           ┆           ┆           ┆   ┆           ┆           ┆           ┆          │\n",
       "│ 23:00:00  ┆           ┆           ┆           ┆   ┆           ┆           ┆           ┆          │\n",
       "│ 2024-04-1 ┆ 96        ┆ 0         ┆ 3         ┆ … ┆ 26        ┆ 0         ┆ 0         ┆ 34       │\n",
       "│ 1         ┆           ┆           ┆           ┆   ┆           ┆           ┆           ┆          │\n",
       "│ 23:00:00  ┆           ┆           ┆           ┆   ┆           ┆           ┆           ┆          │\n",
       "│ 2024-04-1 ┆ 97        ┆ 4         ┆ 17        ┆ … ┆ 76        ┆ 0         ┆ 0         ┆ 123      │\n",
       "│ 1         ┆           ┆           ┆           ┆   ┆           ┆           ┆           ┆          │\n",
       "│ 23:00:00  ┆           ┆           ┆           ┆   ┆           ┆           ┆           ┆          │\n",
       "│ 2024-04-1 ┆ 98        ┆ 4         ┆ 2         ┆ … ┆ 18        ┆ 0         ┆ 0         ┆ 41       │\n",
       "│ 1         ┆           ┆           ┆           ┆   ┆           ┆           ┆           ┆          │\n",
       "│ 23:00:00  ┆           ┆           ┆           ┆   ┆           ┆           ┆           ┆          │\n",
       "│ 2024-04-1 ┆ 99        ┆ 2         ┆ 1         ┆ … ┆ 17        ┆ 0         ┆ 0         ┆ 32       │\n",
       "│ 1         ┆           ┆           ┆           ┆   ┆           ┆           ┆           ┆          │\n",
       "│ 23:00:00  ┆           ┆           ┆           ┆   ┆           ┆           ┆           ┆          │\n",
       "└───────────┴───────────┴───────────┴───────────┴───┴───────────┴───────────┴───────────┴──────────┘"
      ]
     },
     "execution_count": 9,
     "metadata": {},
     "output_type": "execute_result"
    }
   ],
   "source": [
    "with requests.session() as ses:\n",
    "    df = get_data(ses)\n",
    "ridership = format_df(df)\n",
    "ridership"
   ]
  },
  {
   "cell_type": "code",
   "execution_count": null,
   "metadata": {},
   "outputs": [],
   "source": []
  }
 ],
 "metadata": {
  "kernelspec": {
   "display_name": "mta",
   "language": "python",
   "name": "python3"
  },
  "language_info": {
   "codemirror_mode": {
    "name": "ipython",
    "version": 3
   },
   "file_extension": ".py",
   "mimetype": "text/x-python",
   "name": "python",
   "nbconvert_exporter": "python",
   "pygments_lexer": "ipython3",
   "version": "3.11.6"
  }
 },
 "nbformat": 4,
 "nbformat_minor": 2
}
